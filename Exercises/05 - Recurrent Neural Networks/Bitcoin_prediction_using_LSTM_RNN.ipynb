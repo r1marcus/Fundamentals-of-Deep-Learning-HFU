{
  "nbformat": 4,
  "nbformat_minor": 0,
  "metadata": {
    "kernelspec": {
      "display_name": "Python 3",
      "language": "python",
      "name": "python3"
    },
    "language_info": {
      "codemirror_mode": {
        "name": "ipython",
        "version": 3
      },
      "file_extension": ".py",
      "mimetype": "text/x-python",
      "name": "python",
      "nbconvert_exporter": "python",
      "pygments_lexer": "ipython3",
      "version": "3.6.4"
    },
    "colab": {
      "name": "Bitcoin_prediction_using_LSTM_RNN.ipynb",
      "provenance": [],
      "collapsed_sections": [],
      "toc_visible": true
    }
  },
  "cells": [
    {
      "cell_type": "code",
      "metadata": {
        "cellView": "form",
        "id": "oNZw1pd3zPIx"
      },
      "source": [
        "#@title [Candidature form]\n",
        "\n",
        "Name = '' #@param {type: \"string\"}\n",
        "Matriculation_number = '' #@param {type:\"string\"}\n",
        "Faculty = ''  #@param {type: \"string\"}\n",
        "Course = '' #@param {type:\"string\"}\n",
        "Current_semester = \"\" #@param [\"1\", \"2\", \"3\", \"4\", \"5\", \"6\", \"7\"] {allow-input: true}"
      ],
      "execution_count": null,
      "outputs": []
    },
    {
      "cell_type": "markdown",
      "metadata": {
        "id": "1lLAT0jdzVi2"
      },
      "source": [
        "# Recurrent Neural Networks with LSTMs\n",
        "## Machine Learning Project - 05 \n",
        "This project is created and adapted as a Jupyter notebook for [**MME 26849: \"Fundamentals of Deep Learning and TinyML\"**](https://felix.hs-furtwangen.de/url/RepositoryEntry/4020862983) by the course instructors [Marcus Rüb](https://linkedin.com/in/marcus-rüb-3b07071b2) and [Ajay Krishna](https://linkedin.com/in/ajay-krishna-2031a5119).\n",
        "\n",
        "## Resouces\n",
        "Slide from lecture:\n",
        "[08 - Recurrent Neural Networks](https://github.com/r1marcus/Fundamentals-of-Deep-Learning-HFU/blob/main/Slides/08%20-%20RNN%20Datapre/RNN%20Data.pptx)\n",
        "\n",
        "## Goal of the project\n",
        "Implementation of a Long Short Term Memory (LSTM), a recurrent neural network to predict the price of Bitcoin.\n"
      ]
    },
    {
      "cell_type": "markdown",
      "metadata": {
        "id": "gFWcOOhIzpuY"
      },
      "source": [
        "## Import libraries "
      ]
    },
    {
      "cell_type": "code",
      "metadata": {
        "id": "tyWEOJUky2ds"
      },
      "source": [
        "import numpy as np\n",
        "import pandas as pd\n",
        "import matplotlib.pyplot as plt\n",
        "import math\n",
        "\n",
        "from sklearn.preprocessing import MinMaxScaler\n",
        "from sklearn.metrics import mean_squared_error\n",
        "\n",
        "from keras.models import Sequential\n",
        "from keras.layers import Dense\n",
        "from keras.layers import LSTM"
      ],
      "execution_count": 3,
      "outputs": []
    },
    {
      "cell_type": "markdown",
      "metadata": {
        "id": "fg4ZkNe3z1el"
      },
      "source": [
        "## Load the data"
      ]
    },
    {
      "cell_type": "markdown",
      "metadata": {
        "id": "zs74gHWglov0"
      },
      "source": [
        "Bitcoin data for our case-study can be found at: https://drive.google.com/file/d/1pVNnJmNkpZJ0h3dsmKCYtgKlemZTKYbY/view?usp=sharing\n",
        "\n",
        "Steps for loading data:\n",
        "\n",
        "    1. Press the above link \"https://drive.google.com/file/d/1pVNnJmNkpZJ0h3dsmKCYtgKlemZTKYbY/view?usp=sharing\"\n",
        "    2. Download the data to your local machine. (It should be a .csv file)\n",
        "    3. Press the folder icon on the left in the Colab window and upload \"bitcoin_ticker.csv\" from your local machine."
      ]
    },
    {
      "cell_type": "code",
      "metadata": {
        "id": "Oa9bxoXsy2dy"
      },
      "source": [
        "data = pd.read_csv(\"bitcoin_ticker.csv\")"
      ],
      "execution_count": 6,
      "outputs": []
    },
    {
      "cell_type": "markdown",
      "metadata": {
        "id": "IoJQ1ESNnLhE"
      },
      "source": [
        "View the top 5 rows in the dataset:"
      ]
    },
    {
      "cell_type": "code",
      "metadata": {
        "colab": {
          "base_uri": "https://localhost:8080/",
          "height": 309
        },
        "id": "tpA1-LkAkLIE",
        "outputId": "91ed01ea-5fd8-4f0d-d3b3-249d47c9c05e"
      },
      "source": [
        "data.head()"
      ],
      "execution_count": 7,
      "outputs": [
        {
          "output_type": "execute_result",
          "data": {
            "text/html": [
              "<div>\n",
              "<style scoped>\n",
              "    .dataframe tbody tr th:only-of-type {\n",
              "        vertical-align: middle;\n",
              "    }\n",
              "\n",
              "    .dataframe tbody tr th {\n",
              "        vertical-align: top;\n",
              "    }\n",
              "\n",
              "    .dataframe thead th {\n",
              "        text-align: right;\n",
              "    }\n",
              "</style>\n",
              "<table border=\"1\" class=\"dataframe\">\n",
              "  <thead>\n",
              "    <tr style=\"text-align: right;\">\n",
              "      <th></th>\n",
              "      <th>date_id</th>\n",
              "      <th>datetime_id</th>\n",
              "      <th>market</th>\n",
              "      <th>rpt_key</th>\n",
              "      <th>last</th>\n",
              "      <th>diff_24h</th>\n",
              "      <th>diff_per_24h</th>\n",
              "      <th>bid</th>\n",
              "      <th>ask</th>\n",
              "      <th>low</th>\n",
              "      <th>high</th>\n",
              "      <th>volume</th>\n",
              "      <th>created_at</th>\n",
              "      <th>updated_at</th>\n",
              "    </tr>\n",
              "  </thead>\n",
              "  <tbody>\n",
              "    <tr>\n",
              "      <th>0</th>\n",
              "      <td>2017-05-31</td>\n",
              "      <td>2017-06-01 00:00:00</td>\n",
              "      <td>bitstamp</td>\n",
              "      <td>btc_eur</td>\n",
              "      <td>1996.72</td>\n",
              "      <td>2029.99</td>\n",
              "      <td>-1.638924</td>\n",
              "      <td>2005.50</td>\n",
              "      <td>2005.56</td>\n",
              "      <td>1950.00</td>\n",
              "      <td>2063.73</td>\n",
              "      <td>2314.500750</td>\n",
              "      <td>2017-05-31 14:59:36</td>\n",
              "      <td>2017-05-31 14:59:36</td>\n",
              "    </tr>\n",
              "    <tr>\n",
              "      <th>1</th>\n",
              "      <td>2017-05-31</td>\n",
              "      <td>2017-06-01 00:00:00</td>\n",
              "      <td>bitflyer</td>\n",
              "      <td>btc_jpy</td>\n",
              "      <td>267098.00</td>\n",
              "      <td>269649.00</td>\n",
              "      <td>-0.946045</td>\n",
              "      <td>267124.00</td>\n",
              "      <td>267267.00</td>\n",
              "      <td>267124.00</td>\n",
              "      <td>267267.00</td>\n",
              "      <td>70922.880112</td>\n",
              "      <td>2017-05-31 14:59:36</td>\n",
              "      <td>2017-05-31 14:59:36</td>\n",
              "    </tr>\n",
              "    <tr>\n",
              "      <th>2</th>\n",
              "      <td>2017-05-31</td>\n",
              "      <td>2017-06-01 00:00:00</td>\n",
              "      <td>korbit</td>\n",
              "      <td>btc_krw</td>\n",
              "      <td>3003500.00</td>\n",
              "      <td>3140000.00</td>\n",
              "      <td>-4.347134</td>\n",
              "      <td>3003500.00</td>\n",
              "      <td>3004000.00</td>\n",
              "      <td>3002000.00</td>\n",
              "      <td>3209500.00</td>\n",
              "      <td>6109.752872</td>\n",
              "      <td>2017-05-31 14:59:36</td>\n",
              "      <td>2017-05-31 14:59:36</td>\n",
              "    </tr>\n",
              "    <tr>\n",
              "      <th>3</th>\n",
              "      <td>2017-05-31</td>\n",
              "      <td>2017-06-01 00:00:00</td>\n",
              "      <td>bitstamp</td>\n",
              "      <td>btc_usd</td>\n",
              "      <td>2237.40</td>\n",
              "      <td>2239.37</td>\n",
              "      <td>-0.087971</td>\n",
              "      <td>2233.09</td>\n",
              "      <td>2237.40</td>\n",
              "      <td>2154.28</td>\n",
              "      <td>2293.46</td>\n",
              "      <td>13681.282017</td>\n",
              "      <td>2017-05-31 14:59:36</td>\n",
              "      <td>2017-05-31 14:59:36</td>\n",
              "    </tr>\n",
              "    <tr>\n",
              "      <th>4</th>\n",
              "      <td>2017-05-31</td>\n",
              "      <td>2017-06-01 00:00:00</td>\n",
              "      <td>okcoin</td>\n",
              "      <td>btc_usd</td>\n",
              "      <td>2318.82</td>\n",
              "      <td>2228.70</td>\n",
              "      <td>4.043613</td>\n",
              "      <td>2319.40</td>\n",
              "      <td>2319.99</td>\n",
              "      <td>2129.78</td>\n",
              "      <td>2318.82</td>\n",
              "      <td>4241.641516</td>\n",
              "      <td>2017-05-31 14:59:36</td>\n",
              "      <td>2017-05-31 14:59:36</td>\n",
              "    </tr>\n",
              "  </tbody>\n",
              "</table>\n",
              "</div>"
            ],
            "text/plain": [
              "      date_id          datetime_id  ...           created_at           updated_at\n",
              "0  2017-05-31  2017-06-01 00:00:00  ...  2017-05-31 14:59:36  2017-05-31 14:59:36\n",
              "1  2017-05-31  2017-06-01 00:00:00  ...  2017-05-31 14:59:36  2017-05-31 14:59:36\n",
              "2  2017-05-31  2017-06-01 00:00:00  ...  2017-05-31 14:59:36  2017-05-31 14:59:36\n",
              "3  2017-05-31  2017-06-01 00:00:00  ...  2017-05-31 14:59:36  2017-05-31 14:59:36\n",
              "4  2017-05-31  2017-06-01 00:00:00  ...  2017-05-31 14:59:36  2017-05-31 14:59:36\n",
              "\n",
              "[5 rows x 14 columns]"
            ]
          },
          "metadata": {
            "tags": []
          },
          "execution_count": 7
        }
      ]
    },
    {
      "cell_type": "markdown",
      "metadata": {
        "id": "FIPiJ-uZnSEt"
      },
      "source": [
        "## Data Preparation"
      ]
    },
    {
      "cell_type": "code",
      "metadata": {
        "colab": {
          "base_uri": "https://localhost:8080/"
        },
        "id": "kTctBQN1kN2T",
        "outputId": "fabbdc02-676b-403d-c6eb-4f837e62f3d5"
      },
      "source": [
        "data['rpt_key'].value_counts()"
      ],
      "execution_count": 8,
      "outputs": [
        {
          "output_type": "execute_result",
          "data": {
            "text/plain": [
              "btc_usd       125438\n",
              "btc_eur        62719\n",
              "btc_krw        62719\n",
              "ltc_usd        62719\n",
              "eth_btc        62719\n",
              "fx_btc_jpy     62719\n",
              "eth_krw        62719\n",
              "etc_krw        62719\n",
              "btc_jpy        62719\n",
              "Name: rpt_key, dtype: int64"
            ]
          },
          "metadata": {
            "tags": []
          },
          "execution_count": 8
        }
      ]
    },
    {
      "cell_type": "markdown",
      "metadata": {
        "id": "tbIWziW8nZ7w"
      },
      "source": [
        "We only consider 'btc_usd' attribute for further analysis and exclude all the other Bitcoin to FIAT/cryptocurrencies."
      ]
    },
    {
      "cell_type": "code",
      "metadata": {
        "colab": {
          "base_uri": "https://localhost:8080/",
          "height": 309
        },
        "id": "urgzatkroVDD",
        "outputId": "dca79a91-1e91-4118-f669-9f73a2a6c9b2"
      },
      "source": [
        "df = data.loc[(data['rpt_key'] == 'btc_usd')]\n",
        "df.head()"
      ],
      "execution_count": 13,
      "outputs": [
        {
          "output_type": "execute_result",
          "data": {
            "text/html": [
              "<div>\n",
              "<style scoped>\n",
              "    .dataframe tbody tr th:only-of-type {\n",
              "        vertical-align: middle;\n",
              "    }\n",
              "\n",
              "    .dataframe tbody tr th {\n",
              "        vertical-align: top;\n",
              "    }\n",
              "\n",
              "    .dataframe thead th {\n",
              "        text-align: right;\n",
              "    }\n",
              "</style>\n",
              "<table border=\"1\" class=\"dataframe\">\n",
              "  <thead>\n",
              "    <tr style=\"text-align: right;\">\n",
              "      <th></th>\n",
              "      <th>date_id</th>\n",
              "      <th>datetime_id</th>\n",
              "      <th>market</th>\n",
              "      <th>rpt_key</th>\n",
              "      <th>last</th>\n",
              "      <th>diff_24h</th>\n",
              "      <th>diff_per_24h</th>\n",
              "      <th>bid</th>\n",
              "      <th>ask</th>\n",
              "      <th>low</th>\n",
              "      <th>high</th>\n",
              "      <th>volume</th>\n",
              "      <th>created_at</th>\n",
              "      <th>updated_at</th>\n",
              "    </tr>\n",
              "  </thead>\n",
              "  <tbody>\n",
              "    <tr>\n",
              "      <th>3</th>\n",
              "      <td>2017-05-31</td>\n",
              "      <td>2017-06-01 00:00:00</td>\n",
              "      <td>bitstamp</td>\n",
              "      <td>btc_usd</td>\n",
              "      <td>2237.40</td>\n",
              "      <td>2239.37</td>\n",
              "      <td>-0.087971</td>\n",
              "      <td>2233.09</td>\n",
              "      <td>2237.40</td>\n",
              "      <td>2154.28</td>\n",
              "      <td>2293.46</td>\n",
              "      <td>13681.282017</td>\n",
              "      <td>2017-05-31 14:59:36</td>\n",
              "      <td>2017-05-31 14:59:36</td>\n",
              "    </tr>\n",
              "    <tr>\n",
              "      <th>4</th>\n",
              "      <td>2017-05-31</td>\n",
              "      <td>2017-06-01 00:00:00</td>\n",
              "      <td>okcoin</td>\n",
              "      <td>btc_usd</td>\n",
              "      <td>2318.82</td>\n",
              "      <td>2228.70</td>\n",
              "      <td>4.043613</td>\n",
              "      <td>2319.40</td>\n",
              "      <td>2319.99</td>\n",
              "      <td>2129.78</td>\n",
              "      <td>2318.82</td>\n",
              "      <td>4241.641516</td>\n",
              "      <td>2017-05-31 14:59:36</td>\n",
              "      <td>2017-05-31 14:59:36</td>\n",
              "    </tr>\n",
              "    <tr>\n",
              "      <th>15</th>\n",
              "      <td>2017-06-01</td>\n",
              "      <td>2017-06-01 00:01:00</td>\n",
              "      <td>bitstamp</td>\n",
              "      <td>btc_usd</td>\n",
              "      <td>2248.39</td>\n",
              "      <td>2242.44</td>\n",
              "      <td>0.265336</td>\n",
              "      <td>2247.77</td>\n",
              "      <td>2248.38</td>\n",
              "      <td>2154.28</td>\n",
              "      <td>2293.46</td>\n",
              "      <td>13701.698603</td>\n",
              "      <td>2017-05-31 15:00:36</td>\n",
              "      <td>2017-05-31 15:00:36</td>\n",
              "    </tr>\n",
              "    <tr>\n",
              "      <th>16</th>\n",
              "      <td>2017-06-01</td>\n",
              "      <td>2017-06-01 00:01:00</td>\n",
              "      <td>okcoin</td>\n",
              "      <td>btc_usd</td>\n",
              "      <td>2320.42</td>\n",
              "      <td>2228.40</td>\n",
              "      <td>4.129420</td>\n",
              "      <td>2320.99</td>\n",
              "      <td>2321.49</td>\n",
              "      <td>2129.78</td>\n",
              "      <td>2322.00</td>\n",
              "      <td>4260.261516</td>\n",
              "      <td>2017-05-31 15:00:36</td>\n",
              "      <td>2017-05-31 15:00:36</td>\n",
              "    </tr>\n",
              "    <tr>\n",
              "      <th>23</th>\n",
              "      <td>2017-06-01</td>\n",
              "      <td>2017-06-01 00:02:00</td>\n",
              "      <td>bitstamp</td>\n",
              "      <td>btc_usd</td>\n",
              "      <td>2248.35</td>\n",
              "      <td>2238.58</td>\n",
              "      <td>0.436437</td>\n",
              "      <td>2248.35</td>\n",
              "      <td>2248.69</td>\n",
              "      <td>2154.28</td>\n",
              "      <td>2293.46</td>\n",
              "      <td>13742.110913</td>\n",
              "      <td>2017-05-31 15:01:36</td>\n",
              "      <td>2017-05-31 15:01:36</td>\n",
              "    </tr>\n",
              "  </tbody>\n",
              "</table>\n",
              "</div>"
            ],
            "text/plain": [
              "       date_id          datetime_id  ...           created_at           updated_at\n",
              "3   2017-05-31  2017-06-01 00:00:00  ...  2017-05-31 14:59:36  2017-05-31 14:59:36\n",
              "4   2017-05-31  2017-06-01 00:00:00  ...  2017-05-31 14:59:36  2017-05-31 14:59:36\n",
              "15  2017-06-01  2017-06-01 00:01:00  ...  2017-05-31 15:00:36  2017-05-31 15:00:36\n",
              "16  2017-06-01  2017-06-01 00:01:00  ...  2017-05-31 15:00:36  2017-05-31 15:00:36\n",
              "23  2017-06-01  2017-06-01 00:02:00  ...  2017-05-31 15:01:36  2017-05-31 15:01:36\n",
              "\n",
              "[5 rows x 14 columns]"
            ]
          },
          "metadata": {
            "tags": []
          },
          "execution_count": 13
        }
      ]
    },
    {
      "cell_type": "markdown",
      "metadata": {
        "id": "pqO_mPphkVVH"
      },
      "source": [
        "Convert datetime_id to data type and filter dates greater than  2017-06-28 00:00:00"
      ]
    },
    {
      "cell_type": "code",
      "metadata": {
        "id": "iJ2gkz8Ny2dz"
      },
      "source": [
        "df = df.reset_index(drop=True)\n",
        "df['datetime'] = pd.to_datetime(df['datetime_id'])\n",
        "df = df.loc[df['datetime'] > pd.to_datetime('2017-06-28 00:00:00')]"
      ],
      "execution_count": 15,
      "outputs": []
    },
    {
      "cell_type": "code",
      "metadata": {
        "colab": {
          "base_uri": "https://localhost:8080/",
          "height": 419
        },
        "id": "8J1yRccyornN",
        "outputId": "ccc797b8-ec43-4860-815f-3f1d540f3539"
      },
      "source": [
        "df = df[['datetime', 'last', 'diff_24h', 'diff_per_24h', 'bid', 'ask', 'low', 'high', 'volume']]\n",
        "df"
      ],
      "execution_count": 16,
      "outputs": [
        {
          "output_type": "execute_result",
          "data": {
            "text/html": [
              "<div>\n",
              "<style scoped>\n",
              "    .dataframe tbody tr th:only-of-type {\n",
              "        vertical-align: middle;\n",
              "    }\n",
              "\n",
              "    .dataframe tbody tr th {\n",
              "        vertical-align: top;\n",
              "    }\n",
              "\n",
              "    .dataframe thead th {\n",
              "        text-align: right;\n",
              "    }\n",
              "</style>\n",
              "<table border=\"1\" class=\"dataframe\">\n",
              "  <thead>\n",
              "    <tr style=\"text-align: right;\">\n",
              "      <th></th>\n",
              "      <th>datetime</th>\n",
              "      <th>last</th>\n",
              "      <th>diff_24h</th>\n",
              "      <th>diff_per_24h</th>\n",
              "      <th>bid</th>\n",
              "      <th>ask</th>\n",
              "      <th>low</th>\n",
              "      <th>high</th>\n",
              "      <th>volume</th>\n",
              "    </tr>\n",
              "  </thead>\n",
              "  <tbody>\n",
              "    <tr>\n",
              "      <th>77762</th>\n",
              "      <td>2017-06-28 00:01:00</td>\n",
              "      <td>2344.00</td>\n",
              "      <td>2491.98</td>\n",
              "      <td>-5.938250</td>\n",
              "      <td>2335.01</td>\n",
              "      <td>2343.89</td>\n",
              "      <td>2307.00</td>\n",
              "      <td>2473.19</td>\n",
              "      <td>20719.583592</td>\n",
              "    </tr>\n",
              "    <tr>\n",
              "      <th>77763</th>\n",
              "      <td>2017-06-28 00:01:00</td>\n",
              "      <td>2499.39</td>\n",
              "      <td>2682.25</td>\n",
              "      <td>-6.817411</td>\n",
              "      <td>2495.00</td>\n",
              "      <td>2499.33</td>\n",
              "      <td>2444.00</td>\n",
              "      <td>2780.62</td>\n",
              "      <td>2265.557866</td>\n",
              "    </tr>\n",
              "    <tr>\n",
              "      <th>77764</th>\n",
              "      <td>2017-06-28 00:02:00</td>\n",
              "      <td>2337.18</td>\n",
              "      <td>2491.98</td>\n",
              "      <td>-6.211928</td>\n",
              "      <td>2337.18</td>\n",
              "      <td>2340.00</td>\n",
              "      <td>2307.00</td>\n",
              "      <td>2473.19</td>\n",
              "      <td>20732.082581</td>\n",
              "    </tr>\n",
              "    <tr>\n",
              "      <th>77765</th>\n",
              "      <td>2017-06-28 00:02:00</td>\n",
              "      <td>2492.76</td>\n",
              "      <td>2682.25</td>\n",
              "      <td>-7.064591</td>\n",
              "      <td>2492.76</td>\n",
              "      <td>2495.00</td>\n",
              "      <td>2444.00</td>\n",
              "      <td>2780.62</td>\n",
              "      <td>2262.618866</td>\n",
              "    </tr>\n",
              "    <tr>\n",
              "      <th>77766</th>\n",
              "      <td>2017-06-28 00:03:00</td>\n",
              "      <td>2335.02</td>\n",
              "      <td>2491.98</td>\n",
              "      <td>-6.298606</td>\n",
              "      <td>2335.01</td>\n",
              "      <td>2335.02</td>\n",
              "      <td>2307.00</td>\n",
              "      <td>2473.19</td>\n",
              "      <td>20665.357191</td>\n",
              "    </tr>\n",
              "    <tr>\n",
              "      <th>...</th>\n",
              "      <td>...</td>\n",
              "      <td>...</td>\n",
              "      <td>...</td>\n",
              "      <td>...</td>\n",
              "      <td>...</td>\n",
              "      <td>...</td>\n",
              "      <td>...</td>\n",
              "      <td>...</td>\n",
              "      <td>...</td>\n",
              "    </tr>\n",
              "    <tr>\n",
              "      <th>125433</th>\n",
              "      <td>2017-07-14 13:16:00</td>\n",
              "      <td>2394.03</td>\n",
              "      <td>2500.01</td>\n",
              "      <td>-4.239183</td>\n",
              "      <td>2394.35</td>\n",
              "      <td>2405.72</td>\n",
              "      <td>2378.02</td>\n",
              "      <td>2529.20</td>\n",
              "      <td>1111.540000</td>\n",
              "    </tr>\n",
              "    <tr>\n",
              "      <th>125434</th>\n",
              "      <td>2017-07-14 13:17:00</td>\n",
              "      <td>2320.47</td>\n",
              "      <td>2407.06</td>\n",
              "      <td>-3.597335</td>\n",
              "      <td>2320.48</td>\n",
              "      <td>2322.55</td>\n",
              "      <td>2307.46</td>\n",
              "      <td>2413.60</td>\n",
              "      <td>7969.263583</td>\n",
              "    </tr>\n",
              "    <tr>\n",
              "      <th>125435</th>\n",
              "      <td>2017-07-14 13:17:00</td>\n",
              "      <td>2394.03</td>\n",
              "      <td>2500.01</td>\n",
              "      <td>-4.239183</td>\n",
              "      <td>2394.42</td>\n",
              "      <td>2405.69</td>\n",
              "      <td>2378.02</td>\n",
              "      <td>2529.20</td>\n",
              "      <td>1111.540000</td>\n",
              "    </tr>\n",
              "    <tr>\n",
              "      <th>125436</th>\n",
              "      <td>2017-07-14 13:18:00</td>\n",
              "      <td>2320.47</td>\n",
              "      <td>2408.00</td>\n",
              "      <td>-3.634967</td>\n",
              "      <td>2320.57</td>\n",
              "      <td>2322.55</td>\n",
              "      <td>2307.46</td>\n",
              "      <td>2413.60</td>\n",
              "      <td>7968.970715</td>\n",
              "    </tr>\n",
              "    <tr>\n",
              "      <th>125437</th>\n",
              "      <td>2017-07-14 13:18:00</td>\n",
              "      <td>2394.03</td>\n",
              "      <td>2500.01</td>\n",
              "      <td>-4.239183</td>\n",
              "      <td>2394.17</td>\n",
              "      <td>2405.69</td>\n",
              "      <td>2378.02</td>\n",
              "      <td>2529.20</td>\n",
              "      <td>1111.221000</td>\n",
              "    </tr>\n",
              "  </tbody>\n",
              "</table>\n",
              "<p>47676 rows × 9 columns</p>\n",
              "</div>"
            ],
            "text/plain": [
              "                  datetime     last  diff_24h  ...      low     high        volume\n",
              "77762  2017-06-28 00:01:00  2344.00   2491.98  ...  2307.00  2473.19  20719.583592\n",
              "77763  2017-06-28 00:01:00  2499.39   2682.25  ...  2444.00  2780.62   2265.557866\n",
              "77764  2017-06-28 00:02:00  2337.18   2491.98  ...  2307.00  2473.19  20732.082581\n",
              "77765  2017-06-28 00:02:00  2492.76   2682.25  ...  2444.00  2780.62   2262.618866\n",
              "77766  2017-06-28 00:03:00  2335.02   2491.98  ...  2307.00  2473.19  20665.357191\n",
              "...                    ...      ...       ...  ...      ...      ...           ...\n",
              "125433 2017-07-14 13:16:00  2394.03   2500.01  ...  2378.02  2529.20   1111.540000\n",
              "125434 2017-07-14 13:17:00  2320.47   2407.06  ...  2307.46  2413.60   7969.263583\n",
              "125435 2017-07-14 13:17:00  2394.03   2500.01  ...  2378.02  2529.20   1111.540000\n",
              "125436 2017-07-14 13:18:00  2320.47   2408.00  ...  2307.46  2413.60   7968.970715\n",
              "125437 2017-07-14 13:18:00  2394.03   2500.01  ...  2378.02  2529.20   1111.221000\n",
              "\n",
              "[47676 rows x 9 columns]"
            ]
          },
          "metadata": {
            "tags": []
          },
          "execution_count": 16
        }
      ]
    },
    {
      "cell_type": "markdown",
      "metadata": {
        "id": "sJeKnmFto6YV"
      },
      "source": [
        " We require only the column 'last', so we subset that and convert it to numpy array."
      ]
    },
    {
      "cell_type": "code",
      "metadata": {
        "id": "HppwhjQuo6JV"
      },
      "source": [
        "df = df[['last']]"
      ],
      "execution_count": 17,
      "outputs": []
    },
    {
      "cell_type": "code",
      "metadata": {
        "colab": {
          "base_uri": "https://localhost:8080/"
        },
        "id": "zPnTRwPVpIYA",
        "outputId": "98528ce0-a788-409d-e9ef-4c497c049a81"
      },
      "source": [
        "dataset = df.values\n",
        "dataset = dataset.astype('float32')\n",
        "dataset"
      ],
      "execution_count": 19,
      "outputs": [
        {
          "output_type": "execute_result",
          "data": {
            "text/plain": [
              "array([[2344.  ],\n",
              "       [2499.39],\n",
              "       [2337.18],\n",
              "       ...,\n",
              "       [2394.03],\n",
              "       [2320.47],\n",
              "       [2394.03]], dtype=float32)"
            ]
          },
          "metadata": {
            "tags": []
          },
          "execution_count": 19
        }
      ]
    },
    {
      "cell_type": "markdown",
      "metadata": {
        "id": "Zk193DzppQRE"
      },
      "source": [
        "Neural networks are sensitive to input data, especiallly when we are using activation functions like sigmoid or tanh. So we rescale our data to the range of 0 to 1, using MinMaxScaler."
      ]
    },
    {
      "cell_type": "code",
      "metadata": {
        "id": "5mjVoDHepeOb"
      },
      "source": [
        "scaler = MinMaxScaler(feature_range=(0, 1))\n",
        "dataset = scaler.fit_transform(dataset)"
      ],
      "execution_count": 20,
      "outputs": []
    },
    {
      "cell_type": "code",
      "metadata": {
        "colab": {
          "base_uri": "https://localhost:8080/"
        },
        "id": "hsZcvAMIphZZ",
        "outputId": "3526aec3-791a-48c9-da29-d51b2b267339"
      },
      "source": [
        "dataset"
      ],
      "execution_count": 21,
      "outputs": [
        {
          "output_type": "execute_result",
          "data": {
            "text/plain": [
              "array([[0.1997695 ],\n",
              "       [0.49828053],\n",
              "       [0.18666792],\n",
              "       ...,\n",
              "       [0.29587936],\n",
              "       [0.15456724],\n",
              "       [0.29587936]], dtype=float32)"
            ]
          },
          "metadata": {
            "tags": []
          },
          "execution_count": 21
        }
      ]
    },
    {
      "cell_type": "code",
      "metadata": {
        "colab": {
          "base_uri": "https://localhost:8080/"
        },
        "id": "N6Vq8DfipmW2",
        "outputId": "d31fce83-5ccc-4301-bd26-a4d10c12deee"
      },
      "source": [
        "train_size = int(len(dataset) * 0.67)\n",
        "test_size = len(dataset) - train_size\n",
        "train, test = dataset[0:train_size, :], dataset[train_size:len(dataset), :]\n",
        "print(len(train), len(test))"
      ],
      "execution_count": 22,
      "outputs": [
        {
          "output_type": "stream",
          "text": [
            "31942 15734\n"
          ],
          "name": "stdout"
        }
      ]
    },
    {
      "cell_type": "markdown",
      "metadata": {
        "id": "opHIAi26ps_E"
      },
      "source": [
        "Now let us define the function called create_dataset, which takes two inputs:\n",
        "\n",
        "1. Dataset - numpy array that we want to convert into a dataset\n",
        "2. look_back - number of previous time steps to use as input variables to predict the next time period"
      ]
    },
    {
      "cell_type": "code",
      "metadata": {
        "id": "tMy6Kk9pp1l-"
      },
      "source": [
        "# convert an array of values into a dataset matrix\n",
        "def create_dataset(dataset, look_back=1):\n",
        "  dataX, dataY = [], []\n",
        "  for i in range(len(dataset)-look_back-1):\n",
        "    a = dataset[i:(i+look_back), 0]\n",
        "    dataX.append(a)\n",
        "    dataY.append(dataset[i + look_back, 0])\n",
        "  return np.array(dataX), np.array(dataY)"
      ],
      "execution_count": 23,
      "outputs": []
    },
    {
      "cell_type": "code",
      "metadata": {
        "id": "GeO1ABTBp5NT"
      },
      "source": [
        "look_back = 10\n",
        "trainX, trainY = create_dataset(train, look_back=look_back)\n",
        "testX, testY = create_dataset(test, look_back=look_back)"
      ],
      "execution_count": 24,
      "outputs": []
    },
    {
      "cell_type": "code",
      "metadata": {
        "colab": {
          "base_uri": "https://localhost:8080/"
        },
        "id": "TEkMLyu9p7iw",
        "outputId": "f98fa8ea-ebf9-4171-d177-f0c41f7f5fa5"
      },
      "source": [
        "trainX"
      ],
      "execution_count": 25,
      "outputs": [
        {
          "output_type": "execute_result",
          "data": {
            "text/plain": [
              "array([[0.1997695 , 0.49828053, 0.18666792, ..., 0.4975314 , 0.19973087,\n",
              "        0.4860053 ],\n",
              "       [0.49828053, 0.18666792, 0.4855442 , ..., 0.19973087, 0.4860053 ,\n",
              "        0.18442059],\n",
              "       [0.18666792, 0.4855442 , 0.18251848, ..., 0.4860053 , 0.18442059,\n",
              "        0.48598576],\n",
              "       ...,\n",
              "       [0.53376245, 0.6943617 , 0.53105354, ..., 0.7082124 , 0.5205841 ,\n",
              "        0.7081547 ],\n",
              "       [0.6943617 , 0.53105354, 0.70823145, ..., 0.5205841 , 0.7081547 ,\n",
              "        0.52665424],\n",
              "       [0.53105354, 0.70823145, 0.5332055 , ..., 0.7081547 , 0.52665424,\n",
              "        0.7081547 ]], dtype=float32)"
            ]
          },
          "metadata": {
            "tags": []
          },
          "execution_count": 25
        }
      ]
    },
    {
      "cell_type": "code",
      "metadata": {
        "colab": {
          "base_uri": "https://localhost:8080/"
        },
        "id": "n8PFLz90p-E5",
        "outputId": "0498bca2-f8e1-4e71-8152-49ef628a2883"
      },
      "source": [
        "trainY"
      ],
      "execution_count": 26,
      "outputs": [
        {
          "output_type": "execute_result",
          "data": {
            "text/plain": [
              "array([0.18442059, 0.48598576, 0.19208527, ..., 0.52665424, 0.7081547 ,\n",
              "       0.5206418 ], dtype=float32)"
            ]
          },
          "metadata": {
            "tags": []
          },
          "execution_count": 26
        }
      ]
    },
    {
      "cell_type": "code",
      "metadata": {
        "id": "bSPVSnOjqAom"
      },
      "source": [
        "# reshape input to be [samples, time steps, features]\n",
        "trainX = np.reshape(trainX, (trainX.shape[0], 1, trainX.shape[1]))\n",
        "testX = np.reshape(testX, (testX.shape[0], 1, testX.shape[1]))"
      ],
      "execution_count": 27,
      "outputs": []
    },
    {
      "cell_type": "markdown",
      "metadata": {
        "id": "8T0Pud7A0L3C"
      },
      "source": [
        "## Build the Model"
      ]
    },
    {
      "cell_type": "code",
      "metadata": {
        "colab": {
          "base_uri": "https://localhost:8080/"
        },
        "id": "sb7PGPRWy2d0",
        "outputId": "f7922e63-2b5d-4a0f-e94b-1a108348e5e8"
      },
      "source": [
        "model = Sequential()\n",
        "model.add(LSTM(4, input_shape=(1, look_back)))\n",
        "model.add(Dense(1))\n",
        "model.compile(loss='mean_squared_error', optimizer='adam')\n",
        "model.fit(trainX, trainY, epochs=100, batch_size=256, verbose=2)"
      ],
      "execution_count": 28,
      "outputs": [
        {
          "output_type": "stream",
          "text": [
            "Epoch 1/100\n",
            "125/125 - 18s - loss: 0.1675\n",
            "Epoch 2/100\n",
            "125/125 - 0s - loss: 0.0130\n",
            "Epoch 3/100\n",
            "125/125 - 0s - loss: 0.0094\n",
            "Epoch 4/100\n",
            "125/125 - 0s - loss: 0.0061\n",
            "Epoch 5/100\n",
            "125/125 - 0s - loss: 0.0035\n",
            "Epoch 6/100\n",
            "125/125 - 0s - loss: 0.0017\n",
            "Epoch 7/100\n",
            "125/125 - 0s - loss: 8.0971e-04\n",
            "Epoch 8/100\n",
            "125/125 - 0s - loss: 4.5741e-04\n",
            "Epoch 9/100\n",
            "125/125 - 0s - loss: 3.3242e-04\n",
            "Epoch 10/100\n",
            "125/125 - 0s - loss: 2.7945e-04\n",
            "Epoch 11/100\n",
            "125/125 - 0s - loss: 2.5048e-04\n",
            "Epoch 12/100\n",
            "125/125 - 0s - loss: 2.3313e-04\n",
            "Epoch 13/100\n",
            "125/125 - 0s - loss: 2.2247e-04\n",
            "Epoch 14/100\n",
            "125/125 - 0s - loss: 2.1577e-04\n",
            "Epoch 15/100\n",
            "125/125 - 0s - loss: 2.1115e-04\n",
            "Epoch 16/100\n",
            "125/125 - 0s - loss: 2.0786e-04\n",
            "Epoch 17/100\n",
            "125/125 - 0s - loss: 2.0477e-04\n",
            "Epoch 18/100\n",
            "125/125 - 0s - loss: 2.0210e-04\n",
            "Epoch 19/100\n",
            "125/125 - 0s - loss: 1.9965e-04\n",
            "Epoch 20/100\n",
            "125/125 - 0s - loss: 1.9709e-04\n",
            "Epoch 21/100\n",
            "125/125 - 0s - loss: 1.9418e-04\n",
            "Epoch 22/100\n",
            "125/125 - 0s - loss: 1.9139e-04\n",
            "Epoch 23/100\n",
            "125/125 - 0s - loss: 1.8881e-04\n",
            "Epoch 24/100\n",
            "125/125 - 0s - loss: 1.8622e-04\n",
            "Epoch 25/100\n",
            "125/125 - 0s - loss: 1.8383e-04\n",
            "Epoch 26/100\n",
            "125/125 - 0s - loss: 1.8097e-04\n",
            "Epoch 27/100\n",
            "125/125 - 0s - loss: 1.7825e-04\n",
            "Epoch 28/100\n",
            "125/125 - 0s - loss: 1.7599e-04\n",
            "Epoch 29/100\n",
            "125/125 - 0s - loss: 1.7362e-04\n",
            "Epoch 30/100\n",
            "125/125 - 0s - loss: 1.7131e-04\n",
            "Epoch 31/100\n",
            "125/125 - 0s - loss: 1.6884e-04\n",
            "Epoch 32/100\n",
            "125/125 - 0s - loss: 1.6702e-04\n",
            "Epoch 33/100\n",
            "125/125 - 0s - loss: 1.6515e-04\n",
            "Epoch 34/100\n",
            "125/125 - 0s - loss: 1.6315e-04\n",
            "Epoch 35/100\n",
            "125/125 - 0s - loss: 1.6130e-04\n",
            "Epoch 36/100\n",
            "125/125 - 0s - loss: 1.5990e-04\n",
            "Epoch 37/100\n",
            "125/125 - 0s - loss: 1.5801e-04\n",
            "Epoch 38/100\n",
            "125/125 - 0s - loss: 1.5659e-04\n",
            "Epoch 39/100\n",
            "125/125 - 0s - loss: 1.5540e-04\n",
            "Epoch 40/100\n",
            "125/125 - 0s - loss: 1.5388e-04\n",
            "Epoch 41/100\n",
            "125/125 - 0s - loss: 1.5290e-04\n",
            "Epoch 42/100\n",
            "125/125 - 0s - loss: 1.5107e-04\n",
            "Epoch 43/100\n",
            "125/125 - 0s - loss: 1.4960e-04\n",
            "Epoch 44/100\n",
            "125/125 - 0s - loss: 1.4835e-04\n",
            "Epoch 45/100\n",
            "125/125 - 0s - loss: 1.4712e-04\n",
            "Epoch 46/100\n",
            "125/125 - 0s - loss: 1.4580e-04\n",
            "Epoch 47/100\n",
            "125/125 - 0s - loss: 1.4464e-04\n",
            "Epoch 48/100\n",
            "125/125 - 0s - loss: 1.4281e-04\n",
            "Epoch 49/100\n",
            "125/125 - 0s - loss: 1.4161e-04\n",
            "Epoch 50/100\n",
            "125/125 - 0s - loss: 1.4064e-04\n",
            "Epoch 51/100\n",
            "125/125 - 0s - loss: 1.3898e-04\n",
            "Epoch 52/100\n",
            "125/125 - 0s - loss: 1.3750e-04\n",
            "Epoch 53/100\n",
            "125/125 - 0s - loss: 1.3631e-04\n",
            "Epoch 54/100\n",
            "125/125 - 0s - loss: 1.3478e-04\n",
            "Epoch 55/100\n",
            "125/125 - 0s - loss: 1.3397e-04\n",
            "Epoch 56/100\n",
            "125/125 - 0s - loss: 1.3224e-04\n",
            "Epoch 57/100\n",
            "125/125 - 0s - loss: 1.3130e-04\n",
            "Epoch 58/100\n",
            "125/125 - 0s - loss: 1.2880e-04\n",
            "Epoch 59/100\n",
            "125/125 - 0s - loss: 1.2787e-04\n",
            "Epoch 60/100\n",
            "125/125 - 0s - loss: 1.2641e-04\n",
            "Epoch 61/100\n",
            "125/125 - 0s - loss: 1.2588e-04\n",
            "Epoch 62/100\n",
            "125/125 - 0s - loss: 1.2414e-04\n",
            "Epoch 63/100\n",
            "125/125 - 0s - loss: 1.2315e-04\n",
            "Epoch 64/100\n",
            "125/125 - 0s - loss: 1.2125e-04\n",
            "Epoch 65/100\n",
            "125/125 - 0s - loss: 1.2055e-04\n",
            "Epoch 66/100\n",
            "125/125 - 0s - loss: 1.1937e-04\n",
            "Epoch 67/100\n",
            "125/125 - 0s - loss: 1.1782e-04\n",
            "Epoch 68/100\n",
            "125/125 - 0s - loss: 1.1652e-04\n",
            "Epoch 69/100\n",
            "125/125 - 0s - loss: 1.1560e-04\n",
            "Epoch 70/100\n",
            "125/125 - 0s - loss: 1.1434e-04\n",
            "Epoch 71/100\n",
            "125/125 - 0s - loss: 1.1281e-04\n",
            "Epoch 72/100\n",
            "125/125 - 0s - loss: 1.1191e-04\n",
            "Epoch 73/100\n",
            "125/125 - 0s - loss: 1.1069e-04\n",
            "Epoch 74/100\n",
            "125/125 - 0s - loss: 1.1072e-04\n",
            "Epoch 75/100\n",
            "125/125 - 0s - loss: 1.0852e-04\n",
            "Epoch 76/100\n",
            "125/125 - 0s - loss: 1.0800e-04\n",
            "Epoch 77/100\n",
            "125/125 - 0s - loss: 1.0960e-04\n",
            "Epoch 78/100\n",
            "125/125 - 0s - loss: 1.0671e-04\n",
            "Epoch 79/100\n",
            "125/125 - 0s - loss: 1.0633e-04\n",
            "Epoch 80/100\n",
            "125/125 - 0s - loss: 1.0433e-04\n",
            "Epoch 81/100\n",
            "125/125 - 0s - loss: 1.0297e-04\n",
            "Epoch 82/100\n",
            "125/125 - 0s - loss: 1.0328e-04\n",
            "Epoch 83/100\n",
            "125/125 - 0s - loss: 1.0188e-04\n",
            "Epoch 84/100\n",
            "125/125 - 0s - loss: 1.0268e-04\n",
            "Epoch 85/100\n",
            "125/125 - 0s - loss: 1.0069e-04\n",
            "Epoch 86/100\n",
            "125/125 - 0s - loss: 1.0168e-04\n",
            "Epoch 87/100\n",
            "125/125 - 0s - loss: 1.0080e-04\n",
            "Epoch 88/100\n",
            "125/125 - 0s - loss: 9.9388e-05\n",
            "Epoch 89/100\n",
            "125/125 - 0s - loss: 9.8157e-05\n",
            "Epoch 90/100\n",
            "125/125 - 0s - loss: 9.7578e-05\n",
            "Epoch 91/100\n",
            "125/125 - 0s - loss: 9.6851e-05\n",
            "Epoch 92/100\n",
            "125/125 - 0s - loss: 9.6717e-05\n",
            "Epoch 93/100\n",
            "125/125 - 0s - loss: 9.6162e-05\n",
            "Epoch 94/100\n",
            "125/125 - 0s - loss: 9.5027e-05\n",
            "Epoch 95/100\n",
            "125/125 - 0s - loss: 9.4152e-05\n",
            "Epoch 96/100\n",
            "125/125 - 0s - loss: 9.4008e-05\n",
            "Epoch 97/100\n",
            "125/125 - 0s - loss: 9.3367e-05\n",
            "Epoch 98/100\n",
            "125/125 - 0s - loss: 9.3159e-05\n",
            "Epoch 99/100\n",
            "125/125 - 0s - loss: 9.2852e-05\n",
            "Epoch 100/100\n",
            "125/125 - 0s - loss: 9.2124e-05\n"
          ],
          "name": "stdout"
        },
        {
          "output_type": "execute_result",
          "data": {
            "text/plain": [
              "<keras.callbacks.History at 0x7f60745d4bd0>"
            ]
          },
          "metadata": {
            "tags": []
          },
          "execution_count": 28
        }
      ]
    },
    {
      "cell_type": "code",
      "metadata": {
        "id": "ayaYzCmIqcv2"
      },
      "source": [
        "trainPredict = model.predict(trainX)\n",
        "testPredict = model.predict(testX)"
      ],
      "execution_count": 29,
      "outputs": []
    },
    {
      "cell_type": "markdown",
      "metadata": {
        "id": "jKelPWUdqhdU"
      },
      "source": [
        "We have to invert the predictions before calculating the error so that the reports will be in the same units as our original data."
      ]
    },
    {
      "cell_type": "code",
      "metadata": {
        "id": "IehThJXeqo8Q"
      },
      "source": [
        "trainPredict = scaler.inverse_transform(trainPredict)\n",
        "trainY = scaler.inverse_transform([trainY])\n",
        "testPredict = scaler.inverse_transform(testPredict)\n",
        "testY = scaler.inverse_transform([testY])"
      ],
      "execution_count": 30,
      "outputs": []
    },
    {
      "cell_type": "code",
      "metadata": {
        "colab": {
          "base_uri": "https://localhost:8080/"
        },
        "id": "e39WYM3Bqrei",
        "outputId": "3ae1ea63-ae5b-435f-b1c8-60e0cdd17d51"
      },
      "source": [
        "\n",
        "trainScore = math.sqrt(mean_squared_error(trainY[0], trainPredict[:, 0]))\n",
        "print('Train Score: %.2f RMSE' % (trainScore))\n",
        "testScore = math.sqrt(mean_squared_error(testY[0], testPredict[:, 0]))\n",
        "print('Test Score: %.2f RMSE' % (testScore))\n"
      ],
      "execution_count": 31,
      "outputs": [
        {
          "output_type": "stream",
          "text": [
            "Train Score: 5.21 RMSE\n",
            "Test Score: 7.03 RMSE\n"
          ],
          "name": "stdout"
        }
      ]
    },
    {
      "cell_type": "code",
      "metadata": {
        "id": "_1oPswjoqwxz"
      },
      "source": [
        "# shift train predictions for plotting\n",
        "trainPredictPlot = np.empty_like(dataset)\n",
        "trainPredictPlot[:, :] = np.nan\n",
        "trainPredictPlot[look_back:len(trainPredict) + look_back, :] = trainPredict\n",
        " "
      ],
      "execution_count": 32,
      "outputs": []
    },
    {
      "cell_type": "code",
      "metadata": {
        "id": "UDR64_YEq0uo"
      },
      "source": [
        " # shift test predictions for plotting\n",
        "testPredictPlot = np.empty_like(dataset)\n",
        "testPredictPlot[:, :] = np.nan\n",
        "testPredictPlot[len(trainPredict) + (look_back * 2) + 1:len(dataset) - 1, :] = testPredict\n",
        " \n"
      ],
      "execution_count": 33,
      "outputs": []
    },
    {
      "cell_type": "code",
      "metadata": {
        "colab": {
          "base_uri": "https://localhost:8080/",
          "height": 265
        },
        "id": "X5Fnwe0xq3ry",
        "outputId": "79c38cfe-6d5e-46cf-91e4-a1d580a7d71c"
      },
      "source": [
        "plt.plot(df['last'], label='Actual')\n",
        "plt.plot(pd.DataFrame(trainPredictPlot, columns=[\"close\"], index=df.index).close, label='Training')\n",
        "plt.plot(pd.DataFrame(testPredictPlot, columns=[\"close\"], index=df.index).close, label='Testing')\n",
        "plt.legend(loc='best')\n",
        "plt.show()"
      ],
      "execution_count": 34,
      "outputs": [
        {
          "output_type": "display_data",
          "data": {
            "image/png": "[encoded data removed]",
            "text/plain": [
              "<Figure size 432x288 with 1 Axes>"
            ]
          },
          "metadata": {
            "tags": [],
            "needs_background": "light"
          }
        }
      ]
    },
    {
      "cell_type": "code",
      "metadata": {
        "id": "1VUFJooq6FIS",
        "cellView": "form"
      },
      "source": [
        "#@title Questionnaire: \n",
        "#@markdown 1. What is the purpose of training RNN model?\n",
        "#@markdown - A) Given character & sequence, what is the most probable next character.\n",
        "#@markdown - B) Maintaining internal state that depends on previously seen elements.\n",
        "#@markdown - C) Predict the following character in each time step.\n",
        "#@markdown - D) Learn patterns and generate a new piece based on model.\n",
        "Ans = \"\" #@param [\"A\", \"B\", \"C\",\"D\"] {allow-input: true}"
      ],
      "execution_count": 36,
      "outputs": []
    },
    {
      "cell_type": "code",
      "metadata": {
        "id": "ZmCa838-6vxu",
        "cellView": "form"
      },
      "source": [
        "#@markdown 2. You are training an RNN, and find that your weights and activations are all taking on the value of NaN (“Not a Number”). Which of these is the most likely cause of this problem?\n",
        "#@markdown - A) Vanishing gradient problem.\n",
        "#@markdown - B) Exploding gradient problem.\n",
        "\n",
        "Ans = \"\" #@param [\"A\", \"B\"] {allow-input: true}"
      ],
      "execution_count": null,
      "outputs": []
    },
    {
      "cell_type": "code",
      "metadata": {
        "id": "Rd_350Bf7Fvg",
        "cellView": "form"
      },
      "source": [
        "#@markdown 3. RNNs can be used in \n",
        "#@markdown - A) Image classification\n",
        "#@markdown - B) Stocks and Crypto market prediction\n",
        "#@markdown - C) Planetary movement in Milky Way\n",
        "#@markdown - D) All of the above\n",
        "Ans = \"\" #@param [\"A\", \"B\", \"C\",\"D\"] {allow-input: true}"
      ],
      "execution_count": null,
      "outputs": []
    },
    {
      "cell_type": "code",
      "metadata": {
        "id": "ybNnEUhx7bFq",
        "cellView": "form"
      },
      "source": [
        "#@markdown 4. Consider the following statements:\n",
        "\n",
        "#@markdown  i. GRU is a generalization of LSTM.\n",
        "\n",
        "#@markdown ii. Gradient clipping is much effective in handling vanishing gradient problem in an RNN, when compared to the gates in LSTM/GRU.\n",
        "#@markdown - A) Both i and ii \n",
        "#@markdown - B) Only ii \n",
        "#@markdown - C) Neither i nor ii \n",
        "#@markdown - D) Only i\n",
        "\n",
        "Ans = \"\" #@param [\"A\", \"B\", \"C\", \"D\"] {allow-input: true}"
      ],
      "execution_count": null,
      "outputs": []
    },
    {
      "cell_type": "code",
      "metadata": {
        "cellView": "form",
        "id": "kh4perzQzHDo"
      },
      "source": [
        "#@markdown 5. What is t-SNE?\n",
        "#@markdown - A) A non-linear dimensionality reduction technique.\n",
        "#@markdown - B) A linear transformation that allows us to solve analogies on word vectors.\n",
        "#@markdown - C) A supervised learning algorithm for learning word embeddings.\n",
        "#@markdown - D) An open-source sequence modeling library .\n",
        "\n",
        "Ans = \"\" #@param [\"A\", \"B\",\"C\",\"D\"] {allow-input: true}"
      ],
      "execution_count": null,
      "outputs": []
    }
  ]
}