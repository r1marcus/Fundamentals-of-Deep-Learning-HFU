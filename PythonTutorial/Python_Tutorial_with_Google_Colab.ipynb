{
  "nbformat": 4,
  "nbformat_minor": 0,
  "metadata": {
    "colab": {
      "name": "Python-Tutorial-with-Google-Colab.ipynb",
      "provenance": [],
      "collapsed_sections": [],
      "toc_visible": true
    },
    "kernelspec": {
      "name": "python3",
      "display_name": "Python 3"
    },
    "language_info": {
      "name": "python"
    },
    "accelerator": "GPU"
  },
  "cells": [
    {
      "cell_type": "code",
      "metadata": {
        "cellView": "form",
        "id": "PoRa0FGhN4_1"
      },
      "source": [
        "#@title [Candidature form]\n",
        "\n",
        "Name = '' #@param {type: \"string\"}\n",
        "Matriculation_number = '' #@param {type:\"string\"}\n",
        "Faculty = ''  #@param {type: \"string\"}\n",
        "Course = '' #@param {type:\"string\"}\n",
        "Current_semester = \"\" #@param [\"1\", \"2\", \"3\", \"4\", \"5\", \"6\", \"7\"] {allow-input: true}\n",
        "\n",
        "Python_skills = 5 #@param {type:\"slider\", min:1, max:5, step:1}"
      ],
      "execution_count": null,
      "outputs": []
    },
    {
      "cell_type": "markdown",
      "metadata": {
        "id": "AwfZpw4ma16d"
      },
      "source": [
        "# **Python Tutorial with Google Colab**"
      ]
    },
    {
      "cell_type": "markdown",
      "metadata": {
        "id": "1t6xp-pnaK-C"
      },
      "source": [
        "This tutorial is created and adapted as a Jupyter notebook for [**MME 26849: \"Fundamentals of Deep Learning and TinyML\"**](https://felix.hs-furtwangen.de/url/RepositoryEntry/4020862983) by the course instructors [Marcus Rüb](https://linkedin.com/in/marcus-rüb-3b07071b2) and [Ajay Krishna](https://linkedin.com/in/ajay-krishna-2031a5119).\n",
        "\n",
        "In this Jupyter Notebook titled \"*Python Tutorial with Google Colab*\" , we will cover:\n",
        "* **Basic Python:** Data types (Numbers, Booleans, Strings), Containers (Loops, Lists, Dictionaries, Sets, Tuples), Functions, and Classes.\n",
        "* **NumPy:** Arrays, Array indexing, Data types, Array math, and Broadcasting.\n",
        "* **Pandas:** Data frames, Data visualization, and Data cleaning (Empty cells, Wrong format, Wrong data, Duplicates).\n",
        "* **Matplotlib:** Plotting, Subplots, Images, Contouring and Pseudocolor, Histograms, and Scatter plots.\n",
        "\n",
        "This notebook also contains questionnaires under each topic/sub-topic that have to be answered. You would probably require to go through the following resources ***(only those who are new to programming)*** to answer some of the questions and understand the complete concept behind it.\n",
        "\n",
        "***Resources for answering questions:***\n",
        "1. [Basic Python](https://docs.python.org/3/tutorial/)  \n",
        "2. [NumPy](https://numpy.org/doc/stable/user/basics.html) \n",
        "3. [Pandas](https://pandas.pydata.org/docs/user_guide/10min.html) \n",
        "4. [Matplotlib](https://matplotlib.org/stable/tutorials/index.html)\n",
        "\n",
        "\n",
        "```\n",
        "P.S. Goodluck and we hope to see you all as potential future Data Scientists and ML Engineers!\n",
        "```\n",
        "\n",
        "\n",
        "\n",
        "\n",
        "\n"
      ]
    },
    {
      "cell_type": "markdown",
      "metadata": {
        "id": "qhKJDn1lgvYB"
      },
      "source": [
        "## **Introduction** "
      ]
    },
    {
      "cell_type": "markdown",
      "metadata": {
        "id": "fvVEraUbhJQD"
      },
      "source": [
        "Python is a high-level object-oriented programming language which has built-in data structures, combined with dynamic binding and typing, which makes it an ideal choice for rapid application development. \n",
        "\n",
        "It also offers support for modules and packages, which allows system modularity and code reuse. It is one of the fastest programming languages as it requires very few lines of code. Its emphasis is mainly on readability and simplicity, which makes it a great choice for beginners and a powerful environment for scientific computing with the help of a few popular libraries such as NumPy, Pandas, SciPy, Scikit-learn, Matplotlib etc.\n",
        "\n",
        "\n",
        "This notebook will serve as a quick crash course on the Python programming language itself and on the use of Python for scientific computing.\n",
        "\n",
        "\n",
        "\n",
        "\n",
        "\n",
        "\n",
        "\n"
      ]
    },
    {
      "cell_type": "markdown",
      "metadata": {
        "id": "teLllJs9hM4w"
      },
      "source": [
        "## **Brief Note on Python Versions**\n",
        "\n",
        "As of Janurary 1, 2020, Python has [officially dropped support](https://www.python.org/doc/sunset-python-2/) for `python2`. We'll be using Python 3.7.10 for this iteration of the course. You can check your Python version at the command line by running `python --version`.  \n",
        "\n",
        "Note that as of April 2020, Colab uses Python 3.6.9 which should run everything without any errors."
      ]
    },
    {
      "cell_type": "code",
      "metadata": {
        "id": "M5pjOLmZnGMY"
      },
      "source": [
        "!python --version"
      ],
      "execution_count": null,
      "outputs": []
    },
    {
      "cell_type": "markdown",
      "metadata": {
        "id": "2sXFiImDvyXf"
      },
      "source": [
        "## **Brief Note on Computational Power**\n",
        "\n",
        "* All the students who have better GPUs than Nvidia K80s, T4s, P4s and P100s can run the Colab code with your own hardware and [here](https://research.google.com/colaboratory/local-runtimes.html) is the way to set that up.\n",
        "\n",
        "* Rest of the students can use Colab's computational resources for free and can enforce by clicking `Runtime -> Change Runtime Type -> Hardware Accelerator -> GPU`"
      ]
    },
    {
      "cell_type": "markdown",
      "metadata": {
        "id": "v2QKsfqTnd0D"
      },
      "source": [
        "## **1. Basic Python: Data types, Containers (Lists, Dictionaries, Sets, Tuples), Functions, Classes**"
      ]
    },
    {
      "cell_type": "markdown",
      "metadata": {
        "id": "GVobaN4soEHV"
      },
      "source": [
        "Before deep diving, let's start off with the most common program of all time as a tradition! ;)"
      ]
    },
    {
      "cell_type": "code",
      "metadata": {
        "id": "2z0Tmgn-ocpj"
      },
      "source": [
        "print(\"Hello World!\")"
      ],
      "execution_count": null,
      "outputs": []
    },
    {
      "cell_type": "markdown",
      "metadata": {
        "id": "Nm5ODM4WpdMe"
      },
      "source": [
        "### **Data Types**"
      ]
    },
    {
      "cell_type": "code",
      "metadata": {
        "id": "2EGTHN7huUYp"
      },
      "source": [
        "x = \"Cyberpunk\"\n",
        "y = 2077\n",
        "z = 3.142957\n",
        "\n",
        "print(x, type(x))   # prints data type of x\n",
        "print(y, type(y))   # prints data type of y\n",
        "print(z, type(z))   # prints data type of z"
      ],
      "execution_count": null,
      "outputs": []
    },
    {
      "cell_type": "code",
      "metadata": {
        "cellView": "form",
        "id": "mN_0SF7HT__z"
      },
      "source": [
        "#@title Questionnaire: \n",
        "#@markdown 1. What is data type of?\n",
        "#@markdown  - \"Hello\"\n",
        "Ans = \"\" #@param [\"Float\", \"String\", \"Integer\", \"Boolean\"] {allow-input: true}\n",
        "\n"
      ],
      "execution_count": null,
      "outputs": []
    },
    {
      "cell_type": "markdown",
      "metadata": {
        "id": "xhiM6JGyo_jW"
      },
      "source": [
        "#### **Numbers**"
      ]
    },
    {
      "cell_type": "markdown",
      "metadata": {
        "id": "j2dRwgukrnSS"
      },
      "source": [
        "Integers and floats work as you would expect from other languages:"
      ]
    },
    {
      "cell_type": "code",
      "metadata": {
        "id": "O6Cc7_x4rsi_"
      },
      "source": [
        "x = 3\n",
        "\n",
        "print(x, type(x)) # prints data type of x"
      ],
      "execution_count": null,
      "outputs": []
    },
    {
      "cell_type": "code",
      "metadata": {
        "id": "a1oaLyMsrtIN"
      },
      "source": [
        "print(x + 1)      # addition\n",
        "print(x - 1)      # subtraction\n",
        "print(x * 2)      # multiplication\n",
        "print(x ** 2)     # exponentiation"
      ],
      "execution_count": null,
      "outputs": []
    },
    {
      "cell_type": "code",
      "metadata": {
        "id": "hsHal8ptsDGr"
      },
      "source": [
        "x += 1\n",
        "print(x)\n",
        "\n",
        "x *= 2\n",
        "print(x)"
      ],
      "execution_count": null,
      "outputs": []
    },
    {
      "cell_type": "code",
      "metadata": {
        "id": "EXc1OGAAsHS3"
      },
      "source": [
        "y = 2.5\n",
        "\n",
        "print(type(y))                  # prints data type of y\n",
        "print(y, y + 1, y * 2, y ** 2)  # prints various mathematical operations"
      ],
      "execution_count": null,
      "outputs": []
    },
    {
      "cell_type": "markdown",
      "metadata": {
        "id": "2SqptvbBsyHP"
      },
      "source": [
        "**Note:**\n",
        "\n",
        "Unlike many languages, Python does not have unary increment (x++) or decrement (x--) operators.\n",
        "\n",
        "Python also has built-in types for long integers and complex numbers; you can find all of the details in the [documentation](https://docs.python.org/3.7/library/stdtypes.html#numeric-types-int-float-long-complex)."
      ]
    },
    {
      "cell_type": "code",
      "metadata": {
        "cellView": "form",
        "id": "1OaPtvtlWr7x"
      },
      "source": [
        "#@title Questionnaire: \n",
        "#@markdown 2. What is output of? \n",
        "#@markdown  - z = 3.5\n",
        "#@markdown  - print(z ** 3)\n",
        "Ans = \"\" #@param {type:\"string\"}\n",
        "\n"
      ],
      "execution_count": null,
      "outputs": []
    },
    {
      "cell_type": "code",
      "metadata": {
        "id": "CgIg216q0lEn"
      },
      "source": [
        "# You can run the above code here to obtain the answer\n",
        "\n",
        "z =\n",
        "print()"
      ],
      "execution_count": null,
      "outputs": []
    },
    {
      "cell_type": "markdown",
      "metadata": {
        "id": "dJSDGQx8tPFl"
      },
      "source": [
        "#### **Booleans**"
      ]
    },
    {
      "cell_type": "markdown",
      "metadata": {
        "id": "KbGcs_5ct3dz"
      },
      "source": [
        "Python implements all of the usual operators for Boolean logic, but uses English words rather than symbols (`&&`, `||`, etc.):"
      ]
    },
    {
      "cell_type": "code",
      "metadata": {
        "id": "vQoGWXfCt-cy"
      },
      "source": [
        "t, f = True, False\n",
        "\n",
        "print(type(t))"
      ],
      "execution_count": null,
      "outputs": []
    },
    {
      "cell_type": "markdown",
      "metadata": {
        "id": "iqFeMbsbt5sA"
      },
      "source": [
        "Now, let's look at the operations"
      ]
    },
    {
      "cell_type": "code",
      "metadata": {
        "id": "MrMEwwRGuKoh"
      },
      "source": [
        "print(t and f) # logical AND;\n",
        "print(t or f)  # logical OR;\n",
        "print(not t)   # logical NOT;\n",
        "print(t != f)  # logical XOR;"
      ],
      "execution_count": null,
      "outputs": []
    },
    {
      "cell_type": "code",
      "metadata": {
        "cellView": "form",
        "id": "0Q4Ue4rbdWKz"
      },
      "source": [
        "#@title Questionnaire: \n",
        "#@markdown 3. This operator means that one value is not equal to another value? \n",
        "#@markdown - A) ==\n",
        "#@markdown - B) <=\n",
        "#@markdown - C) !=\n",
        "#@markdown - D) >=\n",
        "Ans = \"\" #@param [\"A\", \"B\", \"C\", \"D\"] {allow-input: true}"
      ],
      "execution_count": null,
      "outputs": []
    },
    {
      "cell_type": "markdown",
      "metadata": {
        "id": "VZzpd1O8t51P"
      },
      "source": [
        "#### **Strings**"
      ]
    },
    {
      "cell_type": "code",
      "metadata": {
        "id": "48ehyHny1agy"
      },
      "source": [
        "a = 'hello'       # string literals can use single quotes\n",
        "b = \"world\"       # or double quotes; it does not matter\n",
        "\n",
        "print(a)\n",
        "print(b)\n",
        "print(len(b))     # length of the string"
      ],
      "execution_count": null,
      "outputs": []
    },
    {
      "cell_type": "code",
      "metadata": {
        "id": "ZoktHg-LuJ2C"
      },
      "source": [
        "hw = \"hello\" + ' ' + \"world\"           # string concatenation\n",
        "\n",
        "print(hw)"
      ],
      "execution_count": null,
      "outputs": []
    },
    {
      "cell_type": "code",
      "metadata": {
        "id": "SROqNzJv2sWY"
      },
      "source": [
        "hw12 = '{} {} {}'.format(a, b, 12)  # string formatting\n",
        "\n",
        "print(hw12)"
      ],
      "execution_count": null,
      "outputs": []
    },
    {
      "cell_type": "markdown",
      "metadata": {
        "id": "jxuMHsqvt57x"
      },
      "source": [
        "String objects have a bunch of useful methods; for example:"
      ]
    },
    {
      "cell_type": "code",
      "metadata": {
        "id": "8XigHzIC6QOZ"
      },
      "source": [
        "s = \"hello\"\n",
        "\n",
        "print(s.capitalize())           # capitalize a string\n",
        "print(s.upper())                # convert a string to uppercase; prints \"HELLO\"\n",
        "print(s.rjust(7))               # right-justify a string, padding with spaces\n",
        "print(s.center(7))              # center a string, padding with spaces\n",
        "print(s.replace('l', '(ell)'))  # replace all instances of one substring with another\n",
        "print('  world '.strip())       # strip leading and trailing whitespace"
      ],
      "execution_count": null,
      "outputs": []
    },
    {
      "cell_type": "markdown",
      "metadata": {
        "id": "ilmBhNn5t6DA"
      },
      "source": [
        "You can find a list of all string methods in the [documentation](https://docs.python.org/3.7/library/stdtypes.html#string-methods)."
      ]
    },
    {
      "cell_type": "code",
      "metadata": {
        "cellView": "form",
        "id": "gOWYH6wcUTg7"
      },
      "source": [
        "#@title Questionnaire: \n",
        "#@markdown 4. What is the output of the following code? \n",
        "#@markdown  - *str1 = \"PYnative\"*\n",
        "#@markdown  - *print(str1[1:4], str1[:5], str1[4:], str1[0:-1], str1[:-1])*\n",
        "\n",
        "#@markdown - A) PYn PYnat ive PYnativ vitanYP\n",
        "#@markdown - B) Yna PYnat tive PYnativ vitanYP\n",
        "#@markdown - C) Yna PYnat tive PYnativ PYnativ\n",
        "Ans = \"\" #@param [\"A\", \"B\", \"C\"] {allow-input: true}"
      ],
      "execution_count": null,
      "outputs": []
    },
    {
      "cell_type": "markdown",
      "metadata": {
        "id": "YQl5Vqj9t6Gb"
      },
      "source": [
        "### **Containers**"
      ]
    },
    {
      "cell_type": "markdown",
      "metadata": {
        "id": "Siad-DPT6mct"
      },
      "source": [
        "Python includes several built-in container types: lists, dictionaries, sets, and tuples."
      ]
    },
    {
      "cell_type": "code",
      "metadata": {
        "id": "-QZv6kM56ioq"
      },
      "source": [
        "xs = [3, 1, 2]      # create a list\n",
        "\n",
        "print(xs, xs[2])\n",
        "print(xs[-1])       # negative indices count from the end of the list; prints \"2\""
      ],
      "execution_count": null,
      "outputs": []
    },
    {
      "cell_type": "code",
      "metadata": {
        "id": "18WJ5-o96ui6"
      },
      "source": [
        "xs[2] = 'foo'       # lists can contain elements of different types\n",
        "\n",
        "print(xs)"
      ],
      "execution_count": null,
      "outputs": []
    },
    {
      "cell_type": "code",
      "metadata": {
        "id": "uxaw-_Bg6u31"
      },
      "source": [
        "xs.append('bar')    # add a new element to the end of the list\n",
        "\n",
        "print(xs)  "
      ],
      "execution_count": null,
      "outputs": []
    },
    {
      "cell_type": "markdown",
      "metadata": {
        "id": "LhhMphz_t6JK"
      },
      "source": [
        "As usual, you can find all the glory details about lists in the [documentation](https://docs.python.org/3.7/tutorial/datastructures.html#more-on-lists)."
      ]
    },
    {
      "cell_type": "markdown",
      "metadata": {
        "id": "-cm-3yH468oQ"
      },
      "source": [
        "#### **Slicing**"
      ]
    },
    {
      "cell_type": "markdown",
      "metadata": {
        "id": "CfKkXtFIt6Me"
      },
      "source": [
        "In addition to accessing list elements one at a time, Python provides concise syntax to access sublists; this is known as slicing:"
      ]
    },
    {
      "cell_type": "code",
      "metadata": {
        "id": "moq0RJE96yJ2"
      },
      "source": [
        "nums = list(range(5)) # range is a built-in function that creates a list of integers\n",
        "print(nums)           # prints \"[0, 1, 2, 3, 4]\"\n",
        "print(nums[2:4])      # get a slice from index 2 to 4 (exclusive); prints \"[2, 3]\"\n",
        "print(nums[2:])       # get a slice from index 2 to the end; prints \"[2, 3, 4]\"\n",
        "print(nums[:2])       # get a slice from the start to index 2 (exclusive); prints \"[0, 1]\"\n",
        "print(nums[:])        # get a slice of the whole list; prints [\"0, 1, 2, 3, 4]\"\n",
        "print(nums[:-1])      # slice indices can be negative; prints [\"0, 1, 2, 3]\"\n",
        "nums[2:4] = [8, 9]    # assign a new sublist to a slice\n",
        "print(nums)           # prints \"[0, 1, 8, 9, 4]\""
      ],
      "execution_count": null,
      "outputs": []
    },
    {
      "cell_type": "markdown",
      "metadata": {
        "id": "PGbJ9XQy7RaT"
      },
      "source": [
        "#### **Loops**"
      ]
    },
    {
      "cell_type": "markdown",
      "metadata": {
        "id": "mUxwzn3C7UYp"
      },
      "source": [
        "You can loop over the elements of a list like this:"
      ]
    },
    {
      "cell_type": "code",
      "metadata": {
        "id": "B7p_c6kW7DRv"
      },
      "source": [
        "animals = ['cat', 'dog', 'monkey']\n",
        "\n",
        "for animal in animals:\n",
        "    print(animal)"
      ],
      "execution_count": null,
      "outputs": []
    },
    {
      "cell_type": "markdown",
      "metadata": {
        "id": "URoWTM2G7c7s"
      },
      "source": [
        "If you want access to the index of each element within the body of a loop, use the built-in `enumerate` function:"
      ]
    },
    {
      "cell_type": "code",
      "metadata": {
        "id": "WLvgzTTw7SMm"
      },
      "source": [
        "animals = ['cat', 'dog', 'monkey']\n",
        "\n",
        "for idx, animal in enumerate(animals):\n",
        "    print('#{}: {}'.format(idx + 1, animal))"
      ],
      "execution_count": null,
      "outputs": []
    },
    {
      "cell_type": "markdown",
      "metadata": {
        "id": "9y8QAp-27oKg"
      },
      "source": [
        "#### **List comprehensions**"
      ]
    },
    {
      "cell_type": "markdown",
      "metadata": {
        "id": "SVaOqTDh7u4U"
      },
      "source": [
        "While programming, frequently we want to transform one type of data into another. As a simple example, consider the following code that computes square numbers:"
      ]
    },
    {
      "cell_type": "code",
      "metadata": {
        "id": "OcWFZl8G7cGd"
      },
      "source": [
        "nums = [0, 1, 2, 3, 4]\n",
        "squares = []\n",
        "\n",
        "for x in nums:\n",
        "    squares.append(x ** 2)\n",
        "    \n",
        "print(squares)"
      ],
      "execution_count": null,
      "outputs": []
    },
    {
      "cell_type": "markdown",
      "metadata": {
        "id": "T9r6cq4z70qv"
      },
      "source": [
        "You can make this code simpler using a list comprehension:"
      ]
    },
    {
      "cell_type": "code",
      "metadata": {
        "id": "seF5vkUG7xC9"
      },
      "source": [
        "nums = [0, 1, 2, 3, 4]\n",
        "squares = [x ** 2 for x in nums]\n",
        "\n",
        "print(squares)"
      ],
      "execution_count": null,
      "outputs": []
    },
    {
      "cell_type": "markdown",
      "metadata": {
        "id": "ZbxAKdHI75M5"
      },
      "source": [
        "List comprehensions can also contain conditions:"
      ]
    },
    {
      "cell_type": "code",
      "metadata": {
        "id": "vX_69t3T7yv8"
      },
      "source": [
        "nums = [0, 1, 2, 3, 4]\n",
        "even_squares = [x ** 2 for x in nums if x % 2 == 0]\n",
        "\n",
        "print(even_squares)"
      ],
      "execution_count": null,
      "outputs": []
    },
    {
      "cell_type": "code",
      "metadata": {
        "cellView": "form",
        "id": "P54o919FWLOR"
      },
      "source": [
        "#@title Questionnaire: \n",
        "#@markdown 5. What is the output of the following list operation?\n",
        "#@markdown  - *list = [10, 20, 30, 40, 50, 60, 70, 80]*\n",
        "#@markdown  - *print(list[2:5])*\n",
        "#@markdown  - *print(list[:4])*\n",
        "#@markdown  - *print(list[3:])*\n",
        "#@markdown - A) [20, 30, 40, 50]\n",
        "#@markdown [10, 20, 30, 40]\n",
        "#@markdown [30, 40, 50, 60, 70, 80]\n",
        "#@markdown - B) [30, 40, 50]\n",
        "#@markdown [10, 20, 30, 40]\n",
        "#@markdown [40, 50, 60, 70, 80]\n",
        "Ans = \"\" #@param [\"A\", \"B\"] {allow-input: true}"
      ],
      "execution_count": null,
      "outputs": []
    },
    {
      "cell_type": "markdown",
      "metadata": {
        "id": "1W81l47j7925"
      },
      "source": [
        "#### **Dictionaries**"
      ]
    },
    {
      "cell_type": "markdown",
      "metadata": {
        "id": "IQY8MYpm8GjL"
      },
      "source": [
        "A dictionary stores (key, value) pairs, similar to a `Map` in Java or an object in Javascript. You can use it like this:"
      ]
    },
    {
      "cell_type": "code",
      "metadata": {
        "id": "McYmRmfa77hN"
      },
      "source": [
        "d = {'cat': 'cute', 'dog': 'furry'}   # create a new dictionary with some data\n",
        "\n",
        "print(d['cat'])                       # get an entry from a dictionary; prints \"cute\"\n",
        "print('cat' in d)                     # check if a dictionary has a given key; prints \"True\""
      ],
      "execution_count": null,
      "outputs": []
    },
    {
      "cell_type": "code",
      "metadata": {
        "id": "vcsoz9uk8DyE"
      },
      "source": [
        "d['fish'] = 'wet'     # set an entry in a dictionary\n",
        "print(d['fish'])      # prints \"wet\""
      ],
      "execution_count": null,
      "outputs": []
    },
    {
      "cell_type": "code",
      "metadata": {
        "id": "hTbu7ndN8I2B"
      },
      "source": [
        "print(d['monkey'])    # KeyError: 'monkey' not a key of d"
      ],
      "execution_count": null,
      "outputs": []
    },
    {
      "cell_type": "code",
      "metadata": {
        "id": "prWLUE3O8LuY"
      },
      "source": [
        "print(d.get('monkey', 'N/A'))   # get an element with a default; prints \"N/A\"\n",
        "print(d.get('fish', 'N/A'))     # get an element with a default; prints \"wet\""
      ],
      "execution_count": null,
      "outputs": []
    },
    {
      "cell_type": "code",
      "metadata": {
        "id": "RC08TWi58OT_"
      },
      "source": [
        "del d['fish']                   # remove an element from a dictionary\n",
        "print(d.get('fish', 'N/A'))     # \"fish\" is no longer a key; prints \"N/A\""
      ],
      "execution_count": null,
      "outputs": []
    },
    {
      "cell_type": "markdown",
      "metadata": {
        "id": "MCZhYr6R8StQ"
      },
      "source": [
        "You can find all you need to know about dictionaries in the [documentation](https://docs.python.org/2/library/stdtypes.html#dict)."
      ]
    },
    {
      "cell_type": "markdown",
      "metadata": {
        "id": "e5n8L35I-riF"
      },
      "source": [
        "It is easy to iterate over the keys in a dictionary:"
      ]
    },
    {
      "cell_type": "code",
      "metadata": {
        "id": "-4tJUhfn8QTC"
      },
      "source": [
        "d = {'person': 2, 'cat': 4, 'spider': 8}\n",
        "\n",
        "for animal, legs in d.items():\n",
        "    print('A {} has {} legs'.format(animal, legs))"
      ],
      "execution_count": null,
      "outputs": []
    },
    {
      "cell_type": "markdown",
      "metadata": {
        "id": "81guC7Bx-_3j"
      },
      "source": [
        "**Dictionary comprehensions:** These are similar to list comprehensions, but allow you to easily construct dictionaries. For example:"
      ]
    },
    {
      "cell_type": "code",
      "metadata": {
        "id": "YvNQUeAy-7QT"
      },
      "source": [
        "nums = [0, 1, 2, 3, 4]\n",
        "even_num_to_square = {x: x ** 2 for x in nums if x % 2 == 0}\n",
        "\n",
        "print(even_num_to_square)"
      ],
      "execution_count": null,
      "outputs": []
    },
    {
      "cell_type": "markdown",
      "metadata": {
        "id": "0b6CLkCJ_DXU"
      },
      "source": [
        "#### **Sets**"
      ]
    },
    {
      "cell_type": "markdown",
      "metadata": {
        "id": "MUmtrgkU_DFi"
      },
      "source": [
        "A set is an unordered collection of distinct elements. As a simple example, consider the following:"
      ]
    },
    {
      "cell_type": "code",
      "metadata": {
        "id": "i0R1VvoK--AV"
      },
      "source": [
        "animals = {'cat', 'dog'}\n",
        "\n",
        "print('cat' in animals)   # check if an element is in a set; prints \"True\"\n",
        "print('fish' in animals)  # prints \"False\"\n"
      ],
      "execution_count": null,
      "outputs": []
    },
    {
      "cell_type": "code",
      "metadata": {
        "id": "RRNfP5y3_KJJ"
      },
      "source": [
        "animals.add('fish')       # add an element to a set\n",
        "print('fish' in animals)\n",
        "print(len(animals))       # number of elements in a set"
      ],
      "execution_count": null,
      "outputs": []
    },
    {
      "cell_type": "code",
      "metadata": {
        "id": "KYvKt7jH_Ntb"
      },
      "source": [
        "animals.add('cat')        # adding an element that is already in the set does nothing\n",
        "print(len(animals))      \n",
        "\n",
        "animals.remove('cat')     # remove an element from a set\n",
        "print(len(animals))       "
      ],
      "execution_count": null,
      "outputs": []
    },
    {
      "cell_type": "markdown",
      "metadata": {
        "id": "3rVFUH_x_ZXA"
      },
      "source": [
        "**_Loops_:** Iterating over a set has the same syntax as iterating over a list; however since sets are unordered, you cannot make assumptions about the order in which you visit the elements of the set:"
      ]
    },
    {
      "cell_type": "code",
      "metadata": {
        "id": "ouO-zKal_VLG"
      },
      "source": [
        "animals = {'cat', 'dog', 'fish'}\n",
        "\n",
        "for idx, animal in enumerate(animals):\n",
        "    print('#{}: {}'.format(idx + 1, animal))"
      ],
      "execution_count": null,
      "outputs": []
    },
    {
      "cell_type": "markdown",
      "metadata": {
        "id": "StSOLr8e_g0v"
      },
      "source": [
        "**Set comprehensions:** Like lists and dictionaries, we can easily construct sets using set comprehensions:"
      ]
    },
    {
      "cell_type": "code",
      "metadata": {
        "id": "7JASdxER_dfK"
      },
      "source": [
        "from math import sqrt                     # importing dependencies \n",
        "print({int(sqrt(x)) for x in range(30)})"
      ],
      "execution_count": null,
      "outputs": []
    },
    {
      "cell_type": "code",
      "metadata": {
        "cellView": "form",
        "id": "c_yfW1bTfGnC"
      },
      "source": [
        "#@title Questionnaire: \n",
        "#@markdown 6. Suppose we are given with two sets (S1 & S2) then what is the output of the code \n",
        "#@markdown  - S1 + S2\n",
        "#@markdown - A) Adds the elements of both the sets\n",
        "#@markdown - B) Removes the repeating elements and then adds both the sets\n",
        "#@markdown - C) It is a wrong command\n",
        "#@markdown - D) Output will be stored in S1\n",
        "Ans = \"\" #@param [\"A\", \"B\", \"C\", \"D\"] {allow-input: true}"
      ],
      "execution_count": null,
      "outputs": []
    },
    {
      "cell_type": "markdown",
      "metadata": {
        "id": "lX1wHb02_8AI"
      },
      "source": [
        "####**Tuples**"
      ]
    },
    {
      "cell_type": "markdown",
      "metadata": {
        "id": "wVXBs5NHAE8s"
      },
      "source": [
        "A tuple is an (immutable) ordered list of values. A tuple is in many ways similar to a list; one of the most important differences is that tuples can be used as keys in dictionaries and as elements of sets, while lists cannot. Here is a trivial example:"
      ]
    },
    {
      "cell_type": "code",
      "metadata": {
        "id": "k0RkAzul_ivp"
      },
      "source": [
        "d = {(x, x + 1): x for x in range(10)}    # create a dictionary with tuple keys\n",
        "t = (5, 6)                                # create a tuple\n",
        "\n",
        "print(type(t))\n",
        "print(d[t])       \n",
        "print(d[(1, 2)])"
      ],
      "execution_count": null,
      "outputs": []
    },
    {
      "cell_type": "markdown",
      "metadata": {
        "id": "PLXHqEowAW_v"
      },
      "source": [
        "### **Functions**"
      ]
    },
    {
      "cell_type": "markdown",
      "metadata": {
        "id": "zczdDFx9Abfe"
      },
      "source": [
        "Python functions are defined using the `def` keyword. For example:"
      ]
    },
    {
      "cell_type": "code",
      "metadata": {
        "id": "7Y8jYldmAZ23"
      },
      "source": [
        "def sign(x):\n",
        "    if x > 0:\n",
        "        return 'positive'\n",
        "    elif x < 0:\n",
        "        return 'negative'\n",
        "    else:\n",
        "        return 'zero'\n",
        "\n",
        "for x in [-1, 0, 1]:\n",
        "    print(sign(x))"
      ],
      "execution_count": null,
      "outputs": []
    },
    {
      "cell_type": "markdown",
      "metadata": {
        "id": "c_y55TtzAkLT"
      },
      "source": [
        "We will often define functions to take optional keyword arguments, like this:"
      ]
    },
    {
      "cell_type": "code",
      "metadata": {
        "id": "Nl2hFTBPAd1y"
      },
      "source": [
        "def hello(name, loud=False):\n",
        "    if loud:\n",
        "        print('HELLO, {}'.format(name.upper()))\n",
        "    else:\n",
        "        print('Hello, {}!'.format(name))\n",
        "\n",
        "hello('Bob')\n",
        "hello('Fred', loud=True)"
      ],
      "execution_count": null,
      "outputs": []
    },
    {
      "cell_type": "code",
      "metadata": {
        "cellView": "form",
        "id": "F-tIlKi3ZXk7"
      },
      "source": [
        "#@title Questionnaire: \n",
        "#@markdown 7. Select which is true for Python function\n",
        "#@markdown - A) A Python function can return only a single value\n",
        "#@markdown - B) A Python function can return multiple values\n",
        "#@markdown - C) Python function doesn’t return anything unless and until you add a return statement\n",
        "Ans = \"\" #@param [\"A\", \"B\", \"C\"] {allow-input: true}"
      ],
      "execution_count": null,
      "outputs": []
    },
    {
      "cell_type": "markdown",
      "metadata": {
        "id": "5ecGpkIxAoCN"
      },
      "source": [
        "### **Classes**"
      ]
    },
    {
      "cell_type": "markdown",
      "metadata": {
        "id": "GXB9nbI8Any8"
      },
      "source": [
        "The syntax for defining classes in Python is straightforward:"
      ]
    },
    {
      "cell_type": "code",
      "metadata": {
        "id": "o6LK9cuOAh_q"
      },
      "source": [
        "class Greeter:\n",
        "\n",
        "    # Constructor\n",
        "    def __init__(self, name):\n",
        "        self.name = name        # create an instance variable\n",
        "\n",
        "    # Instance method\n",
        "    def greet(self, loud=False):\n",
        "        if loud:\n",
        "          print('HELLO, {}'.format(self.name.upper()))\n",
        "        else:\n",
        "          print('Hello, {}!'.format(self.name))\n",
        "\n",
        "g = Greeter('Fred')             # construct an instance of the Greeter class\n",
        "g.greet()                       # call an instance method; prints \"Hello, Fred\"\n",
        "g.greet(loud=True)              # call an instance method; prints \"HELLO, FRED!\""
      ],
      "execution_count": null,
      "outputs": []
    },
    {
      "cell_type": "markdown",
      "metadata": {
        "id": "aWB11w5pBdpG"
      },
      "source": [
        "## **2. NumPy**"
      ]
    },
    {
      "cell_type": "markdown",
      "metadata": {
        "id": "LLzy_V5SB9u2"
      },
      "source": [
        "Numpy is the core library for scientific computing in Python. It provides a high-performance multidimensional array object, and tools for working with these arrays."
      ]
    },
    {
      "cell_type": "markdown",
      "metadata": {
        "id": "XzJxxgtPCFwC"
      },
      "source": [
        "To use Numpy, we first need to install and import the `numpy` package:"
      ]
    },
    {
      "cell_type": "code",
      "metadata": {
        "id": "sPQIV9JjAtpB"
      },
      "source": [
        "!pip install numpy\n",
        "import numpy as np"
      ],
      "execution_count": null,
      "outputs": []
    },
    {
      "cell_type": "markdown",
      "metadata": {
        "id": "aKVowf_LCMgf"
      },
      "source": [
        "### **Arrays**"
      ]
    },
    {
      "cell_type": "markdown",
      "metadata": {
        "id": "9Iet4TysCQi7"
      },
      "source": [
        "A numpy array is a grid of values, all of the same type, and is indexed by a tuple of non-negative integers. The number of dimensions is the rank of the array; the shape of an array is a tuple of integers giving the size of the array along each dimension."
      ]
    },
    {
      "cell_type": "code",
      "metadata": {
        "id": "2WtYQ1tTCJUT"
      },
      "source": [
        "a = np.array([1, 2, 3])                     # create a rank 1 array\n",
        "print(type(a))\n",
        "print(a.shape)\n",
        "print(a[0])\n",
        "print(a[1])\n",
        "print(a[2])                 "
      ],
      "execution_count": null,
      "outputs": []
    },
    {
      "cell_type": "code",
      "metadata": {
        "id": "5EyGNNTBC1pV"
      },
      "source": [
        "a[0] = 5                                    # change an element of the array\n",
        "print(a) "
      ],
      "execution_count": null,
      "outputs": []
    },
    {
      "cell_type": "code",
      "metadata": {
        "id": "VcquV1c5CYMD"
      },
      "source": [
        "b = np.array([[1,2,3],[4,5,6]])             # create a rank 2 array\n",
        "print(b)"
      ],
      "execution_count": null,
      "outputs": []
    },
    {
      "cell_type": "code",
      "metadata": {
        "id": "1YG1rsNuCcE8"
      },
      "source": [
        "print(b.shape)\n",
        "print(b[0, 0], b[0, 1], b[1, 0])"
      ],
      "execution_count": null,
      "outputs": []
    },
    {
      "cell_type": "markdown",
      "metadata": {
        "id": "BaEw4Z4GC-vp"
      },
      "source": [
        "Numpy also provides many functions to create arrays:"
      ]
    },
    {
      "cell_type": "code",
      "metadata": {
        "id": "pBCimBhYC6Sf"
      },
      "source": [
        "a = np.zeros((2,2))         # create an array of all zeros\n",
        "print(a)"
      ],
      "execution_count": null,
      "outputs": []
    },
    {
      "cell_type": "code",
      "metadata": {
        "id": "SMlbwXgJDB6d"
      },
      "source": [
        "b = np.ones((1,2))          # create an array of all ones\n",
        "print(b)"
      ],
      "execution_count": null,
      "outputs": []
    },
    {
      "cell_type": "code",
      "metadata": {
        "id": "_qxaLgzcDDhm"
      },
      "source": [
        "c = np.full((2,2), 7)       # create a constant array\n",
        "print(c)"
      ],
      "execution_count": null,
      "outputs": []
    },
    {
      "cell_type": "code",
      "metadata": {
        "id": "6S89_65DDFAl"
      },
      "source": [
        "d = np.eye(2)               # create a 2x2 identity matrix\n",
        "print(d)"
      ],
      "execution_count": null,
      "outputs": []
    },
    {
      "cell_type": "code",
      "metadata": {
        "id": "h7v7FRGYDGVc"
      },
      "source": [
        "e = np.random.random((2,2)) # create an array filled with random values\n",
        "print(e)"
      ],
      "execution_count": null,
      "outputs": []
    },
    {
      "cell_type": "markdown",
      "metadata": {
        "id": "hzYbaUUdDWhN"
      },
      "source": [
        "### **Array indexing**"
      ]
    },
    {
      "cell_type": "markdown",
      "metadata": {
        "id": "8fT_Q3NZDZps"
      },
      "source": [
        "Numpy offers several ways to index into arrays."
      ]
    },
    {
      "cell_type": "markdown",
      "metadata": {
        "id": "svhMSk15DZl5"
      },
      "source": [
        "**Slicing:** Similar to Python lists, numpy arrays can be sliced. Since arrays may be multidimensional, you must specify a slice for each dimension of the array:"
      ]
    },
    {
      "cell_type": "code",
      "metadata": {
        "id": "Qh23FfS1DI8Y"
      },
      "source": [
        "import numpy as np\n",
        "\n",
        "# create the following rank 2 array with shape (3, 4)\n",
        "# [[ 1  2  3  4]\n",
        "#  [ 5  6  7  8]\n",
        "#  [ 9 10 11 12]]\n",
        "a = np.array([[1,2,3,4], [5,6,7,8], [9,10,11,12]])\n",
        "\n",
        "# use slicing to pull out the subarray consisting of the first 2 rows\n",
        "# and columns 1 and 2; b is the following array of shape (2, 2):\n",
        "# [[2 3]\n",
        "#  [6 7]]\n",
        "b = a[:2, 1:3]\n",
        "\n",
        "print(b)"
      ],
      "execution_count": null,
      "outputs": []
    },
    {
      "cell_type": "markdown",
      "metadata": {
        "id": "hcu9WRQEDrKy"
      },
      "source": [
        "A slice of an array is a view into the same data, so modifying it will modify the original array."
      ]
    },
    {
      "cell_type": "code",
      "metadata": {
        "id": "kdkmNlXJDvs5"
      },
      "source": [
        "print(a[0, 1])\n",
        "b[0, 0] = 77    # b[0, 0] is the same piece of data as a[0, 1]\n",
        "print(a[0, 1]) "
      ],
      "execution_count": null,
      "outputs": []
    },
    {
      "cell_type": "markdown",
      "metadata": {
        "id": "peRRvkLzD9dE"
      },
      "source": [
        "You can also mix integer indexing with slice indexing. However, doing so will yield an array of lower rank than the original array."
      ]
    },
    {
      "cell_type": "code",
      "metadata": {
        "id": "SxzKz1pGDzRy"
      },
      "source": [
        "# create the following rank 2 array with shape (3, 4)\n",
        "a = np.array([[1,2,3,4], [5,6,7,8], [9,10,11,12]])\n",
        "\n",
        "print(a)"
      ],
      "execution_count": null,
      "outputs": []
    },
    {
      "cell_type": "markdown",
      "metadata": {
        "id": "9YZJJCsEECqt"
      },
      "source": [
        "Two ways of accessing the data in the middle row of the array.\n",
        "Mixing integer indexing with slices yields an array of lower rank,\n",
        "while using only slices yields an array of the same rank as the\n",
        "original array:"
      ]
    },
    {
      "cell_type": "code",
      "metadata": {
        "id": "rL2CQUj-EAdW"
      },
      "source": [
        "row_r1 = a[1, :]    # rank 1 view of the second row of a  \n",
        "row_r2 = a[1:2, :]  # rank 2 view of the second row of a\n",
        "row_r3 = a[[1], :]  # rank 2 view of the second row of a\n",
        "\n",
        "print(row_r1, row_r1.shape)\n",
        "print(row_r2, row_r2.shape)\n",
        "print(row_r3, row_r3.shape)"
      ],
      "execution_count": null,
      "outputs": []
    },
    {
      "cell_type": "code",
      "metadata": {
        "id": "0-iIDXY3EISt"
      },
      "source": [
        "# we can make the same distinction when accessing columns of an array:\n",
        "\n",
        "col_r1 = a[:, 1]\n",
        "col_r2 = a[:, 1:2]\n",
        "\n",
        "print(col_r1, col_r1.shape)\n",
        "print()\n",
        "print(col_r2, col_r2.shape)"
      ],
      "execution_count": null,
      "outputs": []
    },
    {
      "cell_type": "markdown",
      "metadata": {
        "id": "Nz-NL0-pERYV"
      },
      "source": [
        "**Integer array indexing:** When you index into numpy arrays using slicing, the resulting array view will always be a subarray of the original array. In contrast, integer array indexing allows you to construct arbitrary arrays using the data from another array. Here is an example:"
      ]
    },
    {
      "cell_type": "code",
      "metadata": {
        "id": "cYFUXtd_ERwS"
      },
      "source": [
        "a = np.array([[1,2], [3, 4], [5, 6]])\n",
        "\n",
        "# an example of integer array indexing.\n",
        "# the returned array will have shape (3,) and \n",
        "print(a[[0, 1, 2], [0, 1, 0]])\n",
        "\n",
        "# the above example of integer array indexing is equivalent to this:\n",
        "print(np.array([a[0, 0], a[1, 1], a[2, 0]]))"
      ],
      "execution_count": null,
      "outputs": []
    },
    {
      "cell_type": "code",
      "metadata": {
        "id": "1BHTrHASETrG"
      },
      "source": [
        "# when using integer array indexing, you can reuse the same\n",
        "# element from the source array:\n",
        "print(a[[0, 0], [1, 1]])\n",
        "\n",
        "# equivalent to the previous integer array indexing example\n",
        "print(np.array([a[0, 1], a[0, 1]]))"
      ],
      "execution_count": null,
      "outputs": []
    },
    {
      "cell_type": "markdown",
      "metadata": {
        "id": "qwOzq2DEElDi"
      },
      "source": [
        "One useful trick with integer array indexing is selecting or mutating one element from each row of a matrix:"
      ]
    },
    {
      "cell_type": "code",
      "metadata": {
        "id": "b3tLxsbeEiRd"
      },
      "source": [
        "# create a new array from which we will select elements\n",
        "a = np.array([[1,2,3], [4,5,6], [7,8,9], [10, 11, 12]])\n",
        "\n",
        "print(a)"
      ],
      "execution_count": null,
      "outputs": []
    },
    {
      "cell_type": "code",
      "metadata": {
        "id": "szgVm-8oEkUB"
      },
      "source": [
        "# create an array of indices\n",
        "b = np.array([0, 2, 0, 1])\n",
        "\n",
        "# select one element from each row of a using the indices in b\n",
        "print(a[np.arange(4), b])  # Prints \"[ 1  6  7 11]\""
      ],
      "execution_count": null,
      "outputs": []
    },
    {
      "cell_type": "code",
      "metadata": {
        "id": "Sgxc-C0CEtqp"
      },
      "source": [
        "# mutate one element from each row of a using the indices in b\n",
        "a[np.arange(4), b] += 10\n",
        "\n",
        "print(a)"
      ],
      "execution_count": null,
      "outputs": []
    },
    {
      "cell_type": "markdown",
      "metadata": {
        "id": "p6rasKV0EzLx"
      },
      "source": [
        "**Boolean array indexing:** Boolean array indexing lets you pick out arbitrary elements of an array. Frequently this type of indexing is used to select the elements of an array that satisfy some condition. Here is an example"
      ]
    },
    {
      "cell_type": "code",
      "metadata": {
        "id": "WfywxB43EwJR"
      },
      "source": [
        "import numpy as np\n",
        "\n",
        "a = np.array([[1,2], [3, 4], [5, 6]])\n",
        "\n",
        "bool_idx = (a > 2)  # Find the elements of a that are bigger than 2;\n",
        "                    # this returns a numpy array of Booleans of the same\n",
        "                    # shape as a, where each slot of bool_idx tells\n",
        "                    # whether that element of a is > 2.\n",
        "\n",
        "print(bool_idx)"
      ],
      "execution_count": null,
      "outputs": []
    },
    {
      "cell_type": "code",
      "metadata": {
        "id": "TUjMy-QwE35c"
      },
      "source": [
        "# we use boolean array indexing to construct a rank 1 array\n",
        "# consisting of the elements of a corresponding to the True values\n",
        "# of bool_idx\n",
        "print(a[bool_idx])\n",
        "\n",
        "# we can do all of the above in a single concise statement:\n",
        "print(a[a > 2])"
      ],
      "execution_count": null,
      "outputs": []
    },
    {
      "cell_type": "markdown",
      "metadata": {
        "id": "BMDv9g4KE9rY"
      },
      "source": [
        "For brevity we have left out a lot of details about numpy array indexing; if you want to know more you should read the documentation."
      ]
    },
    {
      "cell_type": "markdown",
      "metadata": {
        "id": "s5b_hgyhFAkY"
      },
      "source": [
        "### **Data types**"
      ]
    },
    {
      "cell_type": "markdown",
      "metadata": {
        "id": "XuIvmbD2FEVO"
      },
      "source": [
        "Every NumPy array is a grid of elements of the same type. Numpy provides a large set of numeric datatypes that you can use to construct arrays. Numpy tries to guess a datatype when you create an array, but functions that construct arrays usually also include an optional argument to explicitly specify the datatype. Here is an example:"
      ]
    },
    {
      "cell_type": "code",
      "metadata": {
        "id": "q0qKLoChE5rt"
      },
      "source": [
        "x = np.array([1, 2])                  # let numpy choose the datatype\n",
        "y = np.array([1.0, 2.0])              # let numpy choose the datatype\n",
        "z = np.array([1, 2], dtype=np.int64)  # force a particular datatype\n",
        "\n",
        "print(x.dtype, y.dtype, z.dtype)"
      ],
      "execution_count": null,
      "outputs": []
    },
    {
      "cell_type": "markdown",
      "metadata": {
        "id": "fEjOkLLbFPWF"
      },
      "source": [
        "You can read all about numpy datatypes in the [documentation](http://docs.scipy.org/doc/numpy/reference/arrays.dtypes.html)."
      ]
    },
    {
      "cell_type": "markdown",
      "metadata": {
        "id": "-zvstm1XFR8d"
      },
      "source": [
        "### **Array math**"
      ]
    },
    {
      "cell_type": "markdown",
      "metadata": {
        "id": "ipM1cn4iFUnw"
      },
      "source": [
        "Basic mathematical functions operate elementwise on arrays, and are available both as operator overloads and as functions in the numpy module:"
      ]
    },
    {
      "cell_type": "code",
      "metadata": {
        "id": "iTRVk1cJFNMC"
      },
      "source": [
        "x = np.array([[1,2],[3,4]], dtype=np.float64)\n",
        "y = np.array([[5,6],[7,8]], dtype=np.float64)\n",
        "\n",
        "# elementwise sum; both produce the array\n",
        "print(x + y)\n",
        "print(np.add(x, y))"
      ],
      "execution_count": null,
      "outputs": []
    },
    {
      "cell_type": "code",
      "metadata": {
        "id": "Svw4rDCIFXqs"
      },
      "source": [
        "# elementwise difference; both produce the array\n",
        "print(x - y)\n",
        "print(np.subtract(x, y))"
      ],
      "execution_count": null,
      "outputs": []
    },
    {
      "cell_type": "code",
      "metadata": {
        "id": "E_cXc1CiFZz4"
      },
      "source": [
        "# elementwise product; both produce the array\n",
        "print(x * y)\n",
        "print(np.multiply(x, y))"
      ],
      "execution_count": null,
      "outputs": []
    },
    {
      "cell_type": "code",
      "metadata": {
        "id": "10bX-UlPFb2J"
      },
      "source": [
        "# elementwise division; both produce the array\n",
        "# [[ 0.2         0.33333333]\n",
        "#  [ 0.42857143  0.5       ]]\n",
        "print(x / y)\n",
        "print(np.divide(x, y))"
      ],
      "execution_count": null,
      "outputs": []
    },
    {
      "cell_type": "code",
      "metadata": {
        "id": "VvQpKMRoFeoF"
      },
      "source": [
        "# elementwise square root; produces the array\n",
        "# [[ 1.          1.41421356]\n",
        "#  [ 1.73205081  2.        ]]\n",
        "print(np.sqrt(x))"
      ],
      "execution_count": null,
      "outputs": []
    },
    {
      "cell_type": "markdown",
      "metadata": {
        "id": "-eWsJjEbF2e5"
      },
      "source": [
        "**Note:**\n",
        "\n",
        " `*` is elementwise multiplication, not matrix multiplication. \n",
        " \n",
        " We instead use the `.` dot function to compute inner products of vectors, to multiply a vector by a matrix, and to multiply matrices."
      ]
    },
    {
      "cell_type": "code",
      "metadata": {
        "id": "NIzf5dJwFvvi"
      },
      "source": [
        "x = np.array([[1,2],[3,4]])\n",
        "y = np.array([[5,6],[7,8]])\n",
        "\n",
        "v = np.array([9,10])\n",
        "w = np.array([11, 12])\n",
        "\n",
        "# inner product of vectors; both produce 219\n",
        "print(v.dot(w))\n",
        "print(np.dot(v, w))"
      ],
      "execution_count": null,
      "outputs": []
    },
    {
      "cell_type": "markdown",
      "metadata": {
        "id": "8od0HxhCGVY0"
      },
      "source": [
        "You can also use the `@` operator which is equivalent to numpy's `dot` operator."
      ]
    },
    {
      "cell_type": "code",
      "metadata": {
        "id": "29KUj67uGEIL"
      },
      "source": [
        "print(v @ w)"
      ],
      "execution_count": null,
      "outputs": []
    },
    {
      "cell_type": "code",
      "metadata": {
        "id": "HfNBEXdvGZMB"
      },
      "source": [
        "# matrix / vector product; both produce the rank 1 array [29 67]\n",
        "print(x.dot(v))\n",
        "print(np.dot(x, v))\n",
        "print(x @ v)"
      ],
      "execution_count": null,
      "outputs": []
    },
    {
      "cell_type": "code",
      "metadata": {
        "id": "M3Nqw7qrGcNR"
      },
      "source": [
        "# matrix / matrix product; both produce the rank 2 array\n",
        "# [[19 22]\n",
        "#  [43 50]]\n",
        "print(x.dot(y))\n",
        "print(np.dot(x, y))\n",
        "print(x @ y)"
      ],
      "execution_count": null,
      "outputs": []
    },
    {
      "cell_type": "markdown",
      "metadata": {
        "id": "oe5hUl_yGlZW"
      },
      "source": [
        "Numpy provides many useful functions for performing computations on arrays; one of the most useful is `sum`:"
      ]
    },
    {
      "cell_type": "code",
      "metadata": {
        "id": "n1zrL9KqGfJ5"
      },
      "source": [
        "x = np.array([[1,2],[3,4]])\n",
        "\n",
        "print(np.sum(x))          # compute sum of all elements; prints \"10\"\n",
        "print(np.sum(x, axis=0))  # compute sum of each column; prints \"[4 6]\"\n",
        "print(np.sum(x, axis=1))  # compute sum of each row; prints \"[3 7]\""
      ],
      "execution_count": null,
      "outputs": []
    },
    {
      "cell_type": "markdown",
      "metadata": {
        "id": "jXQYrspiGq2x"
      },
      "source": [
        "You can find the full list of mathematical functions provided by NumPy in the [documentation](http://docs.scipy.org/doc/numpy/reference/routines.math.html).\n",
        "\n",
        "Apart from computing mathematical functions using arrays, we frequently need to reshape or otherwise manipulate data in arrays. The simplest example of this type of operation is transposing a matrix; to transpose a matrix, simply use the T attribute of an array object:"
      ]
    },
    {
      "cell_type": "code",
      "metadata": {
        "id": "DpqItbXjGjbI"
      },
      "source": [
        "print(x)\n",
        "print(\"transpose\\n\", x.T)"
      ],
      "execution_count": null,
      "outputs": []
    },
    {
      "cell_type": "code",
      "metadata": {
        "id": "KRIJn0AUG0RF"
      },
      "source": [
        "v = np.array([[1,2,3]])\n",
        "print(v )\n",
        "print(\"transpose\\n\", v.T)"
      ],
      "execution_count": null,
      "outputs": []
    },
    {
      "cell_type": "markdown",
      "metadata": {
        "id": "3bc581v1G-tf"
      },
      "source": [
        "### **Broadcasting**"
      ]
    },
    {
      "cell_type": "markdown",
      "metadata": {
        "id": "i4aW61_5HCJk"
      },
      "source": [
        "Broadcasting is a powerful mechanism that allows NumPy to work with arrays of different shapes when performing arithmetic operations. Frequently we have a smaller array and a larger array, and we want to use the smaller array multiple times to perform some operation on the larger array.\n",
        "\n",
        "For example, suppose that we want to add a constant vector to each row of a matrix. We could do it like this:"
      ]
    },
    {
      "cell_type": "code",
      "metadata": {
        "id": "oAMYfR5_G8xl"
      },
      "source": [
        "# we will add the vector v to each row of the matrix x,\n",
        "# storing the result in the matrix y\n",
        "x = np.array([[1,2,3], [4,5,6], [7,8,9], [10, 11, 12]])\n",
        "v = np.array([1, 0, 1])\n",
        "y = np.empty_like(x)   # create an empty matrix with the same shape as x\n",
        "\n",
        "# add the vector v to each row of the matrix x with an explicit loop\n",
        "for i in range(4):\n",
        "    y[i, :] = x[i, :] + v\n",
        "\n",
        "print(y)"
      ],
      "execution_count": null,
      "outputs": []
    },
    {
      "cell_type": "markdown",
      "metadata": {
        "id": "9tss3EPGHL4z"
      },
      "source": [
        "This works; however when the matrix `x` is very large, computing an explicit loop in Python could be slow. Note that adding the vector v to each row of the matrix `x` is equivalent to forming a matrix `vv` by stacking multiple copies of `v` vertically, then performing elementwise summation of `x` and `vv`. We could implement this approach like this:"
      ]
    },
    {
      "cell_type": "code",
      "metadata": {
        "id": "EMK2PFy6HJfa"
      },
      "source": [
        "vv = np.tile(v, (4, 1))  # stack 4 copies of v on top of each other\n",
        "\n",
        "print(vv)                # prints \"[[1 0 1]\n",
        "                         #          [1 0 1]\n",
        "                         #          [1 0 1]\n",
        "                         #          [1 0 1]]\""
      ],
      "execution_count": null,
      "outputs": []
    },
    {
      "cell_type": "code",
      "metadata": {
        "id": "TiFxLRn_HPXs"
      },
      "source": [
        "y = x + vv  # add x and vv elementwise\n",
        "print(y)"
      ],
      "execution_count": null,
      "outputs": []
    },
    {
      "cell_type": "markdown",
      "metadata": {
        "id": "ni945to8HX98"
      },
      "source": [
        "NumPy broadcasting allows us to perform this computation without actually creating multiple copies of v. Consider this version, using broadcasting:"
      ]
    },
    {
      "cell_type": "code",
      "metadata": {
        "id": "aSFwWzezHWEk"
      },
      "source": [
        "import numpy as np\n",
        "\n",
        "# We will add the vector v to each row of the matrix x,\n",
        "# storing the result in the matrix y\n",
        "\n",
        "x = np.array([[1,2,3], [4,5,6], [7,8,9], [10, 11, 12]])\n",
        "v = np.array([1, 0, 1])\n",
        "y = x + v                 # Add v to each row of x using broadcasting\n",
        "\n",
        "print(y)"
      ],
      "execution_count": null,
      "outputs": []
    },
    {
      "cell_type": "markdown",
      "metadata": {
        "id": "HAyzKC-kHjnY"
      },
      "source": [
        "The line `y = x + v` works even though `x` has shape `(4, 3)` and `v` has shape `(3,)` due to broadcasting; this line works as if v actually had shape `(4, 3)`, where each row was a copy of `v`, and the sum was performed elementwise.\n",
        "\n",
        "Broadcasting two arrays together follows these rules:\n",
        "\n",
        "1. If the arrays do not have the same rank, prepend the shape of the lower rank array with 1s until both shapes have the same length.\n",
        "2. The two arrays are said to be compatible in a dimension if they have the same size in the dimension, or if one of the arrays has size 1 in that dimension.\n",
        "3. The arrays can be broadcast together if they are compatible in all dimensions.\n",
        "4. After broadcasting, each array behaves as if it had shape equal to the elementwise maximum of shapes of the two input arrays.\n",
        "5. In any dimension where one array had size 1 and the other array had size greater than 1, the first array behaves as if it were copied along that dimension\n",
        "\n",
        "If this explanation does not make sense, try reading the explanation from the [documentation](http://docs.scipy.org/doc/numpy/user/basics.broadcasting.html) or this [explanation](http://wiki.scipy.org/EricsBroadcastingDoc).\n",
        "\n",
        "Functions that support broadcasting are known as universal functions. You can find the list of all universal functions in the [documentation](http://docs.scipy.org/doc/numpy/reference/ufuncs.html#available-ufuncs).\n",
        "\n",
        "Here are some applications of broadcasting:"
      ]
    },
    {
      "cell_type": "code",
      "metadata": {
        "id": "zsR8Y9K3Hggj"
      },
      "source": [
        "# compute outer product of vectors\n",
        "v = np.array([1,2,3])  # v has shape (3,)\n",
        "w = np.array([4,5])    # w has shape (2,)\n",
        "\n",
        "# to compute an outer product, we first reshape v to be a column\n",
        "# vector of shape (3, 1); we can then broadcast it against w to yield\n",
        "# an output of shape (3, 2), which is the outer product of v and w:\n",
        "\n",
        "print(np.reshape(v, (3, 1)) * w)"
      ],
      "execution_count": null,
      "outputs": []
    },
    {
      "cell_type": "code",
      "metadata": {
        "id": "YUfKcyN4Hq2f"
      },
      "source": [
        "# add a vector to each row of a matrix\n",
        "x = np.array([[1,2,3], [4,5,6]])\n",
        "\n",
        "# x has shape (2, 3) and v has shape (3,) so they broadcast to (2, 3),\n",
        "# giving the following matrix:\n",
        "\n",
        "print(x + v)"
      ],
      "execution_count": null,
      "outputs": []
    },
    {
      "cell_type": "code",
      "metadata": {
        "id": "Ac2O_VKpHu7O"
      },
      "source": [
        "# add a vector to each column of a matrix\n",
        "# x has shape (2, 3) and w has shape (2,).\n",
        "# if we transpose x then it has shape (3, 2) and can be broadcast\n",
        "# against w to yield a result of shape (3, 2); transposing this result\n",
        "# yields the final result of shape (2, 3) which is the matrix x with\n",
        "# the vector w added to each column. Gives the following matrix:\n",
        "\n",
        "print((x.T + w).T)"
      ],
      "execution_count": null,
      "outputs": []
    },
    {
      "cell_type": "code",
      "metadata": {
        "id": "qvZ2wBAeHyYs"
      },
      "source": [
        "# another solution is to reshape w to be a row vector of shape (2, 1);\n",
        "# we can then broadcast it directly against x to produce the same\n",
        "# output.\n",
        "\n",
        "print(x + np.reshape(w, (2, 1)))"
      ],
      "execution_count": null,
      "outputs": []
    },
    {
      "cell_type": "code",
      "metadata": {
        "id": "J7ta7nxNH17h"
      },
      "source": [
        "# multiply a matrix by a constant:\n",
        "# x has shape (2, 3). Numpy treats scalars as arrays of shape ();\n",
        "# these can be broadcast together to shape (2, 3), producing the\n",
        "# following array:\n",
        "\n",
        "print(x * 2)"
      ],
      "execution_count": null,
      "outputs": []
    },
    {
      "cell_type": "markdown",
      "metadata": {
        "id": "0E5B_nyXH8aT"
      },
      "source": [
        "Broadcasting typically makes your code more concise and faster, so you should strive to use it where possible."
      ]
    },
    {
      "cell_type": "markdown",
      "metadata": {
        "id": "3A2kmZauH_LL"
      },
      "source": [
        "This brief overview has touched on many of the important things that you need to know about NumPy, but is far from complete. Check out the [NumPy reference](http://docs.scipy.org/doc/numpy/reference/) to find out much more about it."
      ]
    },
    {
      "cell_type": "code",
      "metadata": {
        "cellView": "form",
        "id": "cQn77W4qaqtL"
      },
      "source": [
        "#@title Questionnaire: \n",
        "#@markdown 8. Select the correct output from the below options\n",
        "#@markdown  - *names = np.array([\"Simon\" , \"Adrian\" , \"Klemens\" , \"Oli\" , \"Marcus\"])*\n",
        "#@markdown  - *print(names([2,3,4]))*\n",
        "\n",
        "#@markdown - A) [ 'Klemens' 'Oli' 'Marcus' ]\n",
        "#@markdown - B) [ 'Oli' 'Klemens' 'Marcus' ]\n",
        "#@markdown - C) [ 'Simon' 'Adrian' 'Fatema' ]\n",
        "#@markdown - D) [ 'Adrian' 'Klemens'  'Oli' ]\n",
        "Ans = \"\" #@param [\"A\", \"B\", \"C\", \"D\"] {allow-input: true}"
      ],
      "execution_count": null,
      "outputs": []
    },
    {
      "cell_type": "markdown",
      "metadata": {
        "id": "kUAv_SPjQH3H"
      },
      "source": [
        "## **Pandas**"
      ]
    },
    {
      "cell_type": "markdown",
      "metadata": {
        "id": "YiNN3--1TAPK"
      },
      "source": [
        "Pandas is a Python library used for working with data sets. It has functions for analyzing, cleaning, exploring, and manipulating data. The name \"Pandas\" has a reference to both \"Panel Data\", and \"Python Data Analysis\" and was created by Wes McKinney in 2008.\n",
        "\n",
        "Pandas allows us to analyze big data and make conclusions based on statistical theories. Pandas can clean messy data sets, and make them readable and relevant.\n",
        "\n",
        "The documentation of Pandas can be found [here.](https://pandas.pydata.org/pandas-docs/stable/index.html)"
      ]
    },
    {
      "cell_type": "markdown",
      "metadata": {
        "id": "uyM-npmBU6aZ"
      },
      "source": [
        "To use Pandas, we first need to install and import the `pandas` package:"
      ]
    },
    {
      "cell_type": "code",
      "metadata": {
        "id": "sACPbTQ7Utas"
      },
      "source": [
        "!pip install pandas"
      ],
      "execution_count": null,
      "outputs": []
    },
    {
      "cell_type": "markdown",
      "metadata": {
        "id": "uXm9H1XUW22E"
      },
      "source": [
        "### **Data frames**"
      ]
    },
    {
      "cell_type": "markdown",
      "metadata": {
        "id": "b-SVBy4uVzzb"
      },
      "source": [
        "Pandas DataFrame is a two-dimensional data structure, like a two-dimensional array, or a table with rows and columns."
      ]
    },
    {
      "cell_type": "code",
      "metadata": {
        "id": "k_NiPi2pV0mE"
      },
      "source": [
        "import pandas as pd\n",
        "\n",
        "data = {\n",
        "  \"calories\": [420, 380, 390],\n",
        "  \"duration\": [50, 40, 45]\n",
        "}\n",
        "\n",
        "#load data into a DataFrame object:\n",
        "df = pd.DataFrame(data)\n",
        "\n",
        "print(df)"
      ],
      "execution_count": null,
      "outputs": []
    },
    {
      "cell_type": "markdown",
      "metadata": {
        "id": "IULQn2vFXiCR"
      },
      "source": [
        "**Locate Row:**\n",
        "\n",
        "As you can see from the result above, the DataFrame is like a table with rows and columns. \n",
        "\n",
        "Pandas use the `loc` attribute to return one or more specified row(s)"
      ]
    },
    {
      "cell_type": "code",
      "metadata": {
        "id": "S1SqxyUwXpMP"
      },
      "source": [
        "# return row 0\n",
        "print(df.loc[0])"
      ],
      "execution_count": null,
      "outputs": []
    },
    {
      "cell_type": "code",
      "metadata": {
        "id": "ntKeErJ9Ykij"
      },
      "source": [
        "# return row 0 and 1\n",
        "print(df.loc[[0, 1]])"
      ],
      "execution_count": null,
      "outputs": []
    },
    {
      "cell_type": "markdown",
      "metadata": {
        "id": "YtU0fBbkY5Ru"
      },
      "source": [
        "**Named Indexes:**\n",
        "\n",
        "With the `index` argument, you can name your own indexes."
      ]
    },
    {
      "cell_type": "code",
      "metadata": {
        "id": "sy4BFJ6oZNMQ"
      },
      "source": [
        "# add a list of names to give each row a name\n",
        "import pandas as pd\n",
        "\n",
        "data = {\n",
        "  \"calories\": [420, 380, 390],\n",
        "  \"duration\": [50, 40, 45]\n",
        "}\n",
        "\n",
        "df = pd.DataFrame(data, index = [\"day1\", \"day2\", \"day3\"])\n",
        "\n",
        "print(df) "
      ],
      "execution_count": null,
      "outputs": []
    },
    {
      "cell_type": "markdown",
      "metadata": {
        "id": "ylVVHZTJZcoe"
      },
      "source": [
        "**Locate Named Indexes**\n",
        "\n",
        "\n",
        "Use the named `index` in the loc attribute to return the specified row(s)."
      ]
    },
    {
      "cell_type": "code",
      "metadata": {
        "id": "3jmxE3NgZonu"
      },
      "source": [
        "# refer to the named index\n",
        "print(df.loc[\"day2\"])"
      ],
      "execution_count": null,
      "outputs": []
    },
    {
      "cell_type": "markdown",
      "metadata": {
        "id": "8drz_CtaZ_Az"
      },
      "source": [
        "### **Data visualization**"
      ]
    },
    {
      "cell_type": "markdown",
      "metadata": {
        "id": "BT_SgYp_bdZf"
      },
      "source": [
        "**Read CSV Files:**\n",
        "\n",
        "A simple way to store big data sets is to use CSV files (comma separated files). CSV files contains plain text and is a well know format that can be read by everyone including Pandas."
      ]
    },
    {
      "cell_type": "code",
      "metadata": {
        "id": "YG4ilaqIaLW6"
      },
      "source": [
        "import pandas as pd\n",
        "\n",
        "# load the CSV into a DataFrame\n",
        "df = pd.read_csv('https://www.w3schools.com/python/pandas/data.csv.txt')\n",
        "\n",
        "print(df)"
      ],
      "execution_count": null,
      "outputs": []
    },
    {
      "cell_type": "markdown",
      "metadata": {
        "id": "6ClG5TDKbtxj"
      },
      "source": [
        "View the first 5 rows of the DataFrame:"
      ]
    },
    {
      "cell_type": "code",
      "metadata": {
        "id": "AEy_jqpWbzA_"
      },
      "source": [
        "df.head()"
      ],
      "execution_count": null,
      "outputs": []
    },
    {
      "cell_type": "code",
      "metadata": {
        "id": "qW1DTjXbcOue"
      },
      "source": [
        "df.head(5)"
      ],
      "execution_count": null,
      "outputs": []
    },
    {
      "cell_type": "markdown",
      "metadata": {
        "id": "cCkcm1Kgcnwx"
      },
      "source": [
        "View the first 20 rows of the DataFrame:"
      ]
    },
    {
      "cell_type": "code",
      "metadata": {
        "id": "7YLCYGs0cnhF"
      },
      "source": [
        "df.head(20)"
      ],
      "execution_count": null,
      "outputs": []
    },
    {
      "cell_type": "markdown",
      "metadata": {
        "id": "etaH6bHNc2mM"
      },
      "source": [
        "View the last 5 rows of the DataFrame:"
      ]
    },
    {
      "cell_type": "code",
      "metadata": {
        "id": "y7wtB5Hic5fJ"
      },
      "source": [
        "df.tail()"
      ],
      "execution_count": null,
      "outputs": []
    },
    {
      "cell_type": "code",
      "metadata": {
        "id": "7lS6xK1mdCJd"
      },
      "source": [
        "df.tail(5)"
      ],
      "execution_count": null,
      "outputs": []
    },
    {
      "cell_type": "markdown",
      "metadata": {
        "id": "Xit8pif8c4xE"
      },
      "source": [
        "View the last 20 rows of the DataFrame:"
      ]
    },
    {
      "cell_type": "code",
      "metadata": {
        "id": "-rRGZYvoc2Wy"
      },
      "source": [
        "df.tail(20)"
      ],
      "execution_count": null,
      "outputs": []
    },
    {
      "cell_type": "markdown",
      "metadata": {
        "id": "9mXjfT6EdV3g"
      },
      "source": [
        "**Information of the data:**\n",
        "\n",
        "The DataFrames object has methods called `info()` and `describe()` that gives you more information about the data set.\n"
      ]
    },
    {
      "cell_type": "code",
      "metadata": {
        "id": "2zl3u6nEdlUU"
      },
      "source": [
        "df.info()"
      ],
      "execution_count": null,
      "outputs": []
    },
    {
      "cell_type": "code",
      "metadata": {
        "id": "PheA5f2ueA6_"
      },
      "source": [
        "df.describe()"
      ],
      "execution_count": null,
      "outputs": []
    },
    {
      "cell_type": "markdown",
      "metadata": {
        "id": "taILcYEIedNU"
      },
      "source": [
        "### **Data cleaning**"
      ]
    },
    {
      "cell_type": "markdown",
      "metadata": {
        "id": "-KsiHqNYemdp"
      },
      "source": [
        "**Data cleaning fixing and removing bad data from the dataset and bad data could be:**\n",
        "\n",
        "* Empty cells\n",
        "* Data in wrong format\n",
        "* Wrong data\n",
        "* Duplicates "
      ]
    },
    {
      "cell_type": "code",
      "metadata": {
        "id": "34EJVZEiegxM"
      },
      "source": [
        "import pandas as pd\n",
        "\n",
        "# load the CSV (with bad data) into a DataFrame\n",
        "df = pd.read_csv('https://www.w3schools.com/python/pandas/dirtydata.csv.txt')\n",
        "\n",
        "print(df)"
      ],
      "execution_count": null,
      "outputs": []
    },
    {
      "cell_type": "markdown",
      "metadata": {
        "id": "OrAXqcRfhJ1m"
      },
      "source": [
        "**The data set contains:**\n",
        "\n",
        "* Empty cells (\"Date\" in row 22, and \"Calories\" in row 18 and 28).\n",
        "\n",
        "* Wrong format (\"Date\" in row 26).\n",
        "\n",
        "* Wrong data (\"Duration\" in row 7).\n",
        "\n",
        "* Duplicates (row 11 and 12)."
      ]
    },
    {
      "cell_type": "markdown",
      "metadata": {
        "id": "dHi7jAYHh6pZ"
      },
      "source": [
        "#### **Empty cells**"
      ]
    },
    {
      "cell_type": "markdown",
      "metadata": {
        "id": "1e2rIuXwh_y5"
      },
      "source": [
        "**Remove Rows:**\n",
        "\n",
        "One way to deal with empty cells is to remove rows that contain empty cells using `dropna()` method\n",
        "\n",
        "This is usually OK, since data sets can be very big, and removing a few rows will not have a big impact on the result."
      ]
    },
    {
      "cell_type": "code",
      "metadata": {
        "id": "SyUhXFVLiVyb"
      },
      "source": [
        "import pandas as pd\n",
        "\n",
        "df = pd.read_csv('https://www.w3schools.com/python/pandas/dirtydata.csv.txt')\n",
        "new_df = df.dropna()          # remove rows that contain empty cells\n",
        "\n",
        "print(new_df)"
      ],
      "execution_count": null,
      "outputs": []
    },
    {
      "cell_type": "markdown",
      "metadata": {
        "id": "UeOnt5AjjcJz"
      },
      "source": [
        "#### **Wrong format**"
      ]
    },
    {
      "cell_type": "markdown",
      "metadata": {
        "id": "S2AYPLwEjjNQ"
      },
      "source": [
        "Cells with data of wrong format can make it difficult, or even impossible, to analyze data. \n",
        "\n",
        "To fix it, you have two options: remove those particular rows, or convert all cells in the columns into the same format."
      ]
    },
    {
      "cell_type": "code",
      "metadata": {
        "id": "vKf3yx-3kTTa"
      },
      "source": [
        "import pandas as pd\n",
        "\n",
        "df = pd.read_csv('https://www.w3schools.com/python/pandas/dirtydata.csv.txt')\n",
        "df['Date'] = pd.to_datetime(df['Date'])\n",
        "\n",
        "print(df)"
      ],
      "execution_count": null,
      "outputs": []
    },
    {
      "cell_type": "markdown",
      "metadata": {
        "id": "BiM1G6rSk6kn"
      },
      "source": [
        "As you can see from the result, the date in row 26 was fixed, but the date in the row 22 got a NaT (Not a Time) value, in other words an empty value. One way to deal with empty values is simply removing the entire row using `dropna()` method"
      ]
    },
    {
      "cell_type": "markdown",
      "metadata": {
        "id": "8oyABr_8lgfr"
      },
      "source": [
        "#### **Wrong data**"
      ]
    },
    {
      "cell_type": "markdown",
      "metadata": {
        "id": "tIyf-2f7l27J"
      },
      "source": [
        "\"Wrong data\" does not have to be \"empty cells\" or \"wrong format\", it can just be wrong, like if someone registered \"199\" instead of \"1.99\". Sometimes you can spot wrong data by looking at the data set, because you have an expectation of what it should be.\n",
        "\n",
        "If you take a look at the data set, you can see that in row 7, the duration is 450, but for all the other rows the duration is between 30 and 60. It doesn't have to be wrong, but taking in consideration that this is the data set of someone's workout sessions, we conclude with the fact that this person did not work out for 450 minutes."
      ]
    },
    {
      "cell_type": "code",
      "metadata": {
        "id": "A77-35pOmUza"
      },
      "source": [
        "df.loc[7, 'Duration'] = 45\n",
        "print(df.dropna())"
      ],
      "execution_count": null,
      "outputs": []
    },
    {
      "cell_type": "markdown",
      "metadata": {
        "id": "DvmbcACgodaO"
      },
      "source": [
        "#### **Duplicates**"
      ]
    },
    {
      "cell_type": "markdown",
      "metadata": {
        "id": "A3p0jDCXogZn"
      },
      "source": [
        "Duplicate rows are rows that have been registered more than one time. By taking a look at our test data set, we can assume that row 11 and 12 are duplicates.\n",
        "\n",
        "**Discovering duplicates:**\n",
        "we can use the `duplicated()` method."
      ]
    },
    {
      "cell_type": "code",
      "metadata": {
        "id": "Ozj20LpBo1x_"
      },
      "source": [
        "print(df.duplicated())"
      ],
      "execution_count": null,
      "outputs": []
    },
    {
      "cell_type": "markdown",
      "metadata": {
        "id": "xIihEoMwopJU"
      },
      "source": [
        "**Removing duplicates:**\n",
        "We can use the `drop_duplicates()` method."
      ]
    },
    {
      "cell_type": "code",
      "metadata": {
        "id": "hkOyeZC_pDAv"
      },
      "source": [
        "df.drop_duplicates(inplace = True)\n",
        "print(df.dropna())"
      ],
      "execution_count": null,
      "outputs": []
    },
    {
      "cell_type": "code",
      "metadata": {
        "cellView": "form",
        "id": "wB8Mn81admzs"
      },
      "source": [
        "#@title Questionnaire: \n",
        "#@markdown 9. What is a correct syntax to create a Pandas DataFrame?\n",
        "#@markdown - A) pd.dataframe(data)\n",
        "#@markdown - B) pd.df(data)\n",
        "#@markdown - C) pd.DataFrame(data)\n",
        "Ans = \"\" #@param [\"A\", \"B\", \"C\"] {allow-input: true}"
      ],
      "execution_count": null,
      "outputs": []
    },
    {
      "cell_type": "code",
      "metadata": {
        "cellView": "form",
        "id": "VpSfELxMeCrl"
      },
      "source": [
        "#@title Questionnaire: \n",
        "#@markdown 10. What is the correct Pandas function for loading CSV files into a DataFrame?\n",
        "#@markdown - A) ReadFile()\n",
        "#@markdown - B) read_file()\n",
        "#@markdown - C) read_csv()\n",
        "#@markdown - D) ReadCSV()\n",
        "Ans = \"\" #@param [\"A\", \"B\", \"C\", \"D\"] {allow-input: true}"
      ],
      "execution_count": null,
      "outputs": []
    },
    {
      "cell_type": "code",
      "metadata": {
        "cellView": "form",
        "id": "Zrb5FyOHe9C1"
      },
      "source": [
        "#@title Questionnaire: \n",
        "#@markdown 11. When you print a DataFrame, by default you will get the headers and how many rows?\n",
        "#@markdown - A) the first 10\n",
        "#@markdown - B) the first 5 and the last 5\n",
        "#@markdown - C) the first 5\n",
        "#@markdown - D) the first 10 and the last 10\n",
        "Ans = \"\" #@param [\"A\", \"B\", \"C\", \"D\"] {allow-input: true}"
      ],
      "execution_count": null,
      "outputs": []
    },
    {
      "cell_type": "code",
      "metadata": {
        "cellView": "form",
        "id": "pEzWzGJRffyD"
      },
      "source": [
        "#@title Questionnaire: \n",
        "#@markdown 12. What is a correct Pandas method for removing rows that contains empty cells?\n",
        "#@markdown - A) dropna()\n",
        "#@markdown - B) remove_null()\n",
        "#@markdown - C) delete_null\n",
        "Ans = \"\" #@param [\"A\", \"B\", \"C\"] {allow-input: true}"
      ],
      "execution_count": null,
      "outputs": []
    },
    {
      "cell_type": "code",
      "metadata": {
        "cellView": "form",
        "id": "yoN55GKfgyxO"
      },
      "source": [
        "#@title Questionnaire: \n",
        "#@markdown 13. What is a correct method to remove duplicates from a Pandas DataFrame?\n",
        "#@markdown - A) df.delete_duplicates()\n",
        "#@markdown - B) df.drop_duplicates()\n",
        "#@markdown - C) df.remove_duplicates()\n",
        "#@markdown - D) df.duplicates()\n",
        "Ans = \"\" #@param [\"A\", \"B\", \"C\", \"D\"] {allow-input: true}"
      ],
      "execution_count": null,
      "outputs": []
    },
    {
      "cell_type": "markdown",
      "metadata": {
        "id": "V_NlR0XVIZHC"
      },
      "source": [
        "## **Matplotlib**"
      ]
    },
    {
      "cell_type": "markdown",
      "metadata": {
        "id": "G5zz_DiAIdzu"
      },
      "source": [
        "Matplotlib is a plotting library and this section gives a brief introduction to the `matplotlib.pyplot` module, which provides a plotting system similar to that of MATLAB."
      ]
    },
    {
      "cell_type": "markdown",
      "metadata": {
        "id": "ye2VC94AVB2V"
      },
      "source": [
        "To use Matplotlib, we first need to install and import the `matplotlib` package:"
      ]
    },
    {
      "cell_type": "code",
      "metadata": {
        "id": "e2FFTfEHH5MH"
      },
      "source": [
        "!pip install matplotlib\n",
        "import matplotlib.pyplot as plt     #Importing the package/dependencies"
      ],
      "execution_count": null,
      "outputs": []
    },
    {
      "cell_type": "markdown",
      "metadata": {
        "id": "1gTSTerTIbHc"
      },
      "source": [
        "By running this special iPython command, we will be displaying plots inline:"
      ]
    },
    {
      "cell_type": "code",
      "metadata": {
        "id": "82DJ9xi6IyTN"
      },
      "source": [
        "%matplotlib inline"
      ],
      "execution_count": null,
      "outputs": []
    },
    {
      "cell_type": "markdown",
      "metadata": {
        "id": "6o2440vbI1rG"
      },
      "source": [
        "### **Plotting**"
      ]
    },
    {
      "cell_type": "markdown",
      "metadata": {
        "id": "CnNuOrFzI5JE"
      },
      "source": [
        "The most important function in `matplotlib` is plot, which allows you to plot 2D data. Here is a simple example:"
      ]
    },
    {
      "cell_type": "code",
      "metadata": {
        "id": "RaOTbQ_EIz21"
      },
      "source": [
        "# compute the x and y coordinates for points on a sine curve\n",
        "x = np.arange(0, 3 * np.pi, 0.1)\n",
        "y = np.sin(x)\n",
        "\n",
        "# plot the points using matplotlib\n",
        "plt.plot(x, y)"
      ],
      "execution_count": null,
      "outputs": []
    },
    {
      "cell_type": "markdown",
      "metadata": {
        "id": "JCNaJr_IJMEE"
      },
      "source": [
        "With just a little bit of extra work we can easily plot multiple lines at once, and add a title, legend, and axis labels:"
      ]
    },
    {
      "cell_type": "code",
      "metadata": {
        "id": "zsY93_ggI8mD"
      },
      "source": [
        "y_sin = np.sin(x)\n",
        "y_cos = np.cos(x)\n",
        "\n",
        "# plot the points using matplotlib\n",
        "plt.plot(x, y_sin)\n",
        "plt.plot(x, y_cos)\n",
        "plt.xlabel('x axis label')\n",
        "plt.ylabel('y axis label')\n",
        "plt.title('Sine and Cosine')\n",
        "plt.legend(['Sine', 'Cosine'])"
      ],
      "execution_count": null,
      "outputs": []
    },
    {
      "cell_type": "markdown",
      "metadata": {
        "id": "SZuveA9XJVmT"
      },
      "source": [
        "### **Subplots**"
      ]
    },
    {
      "cell_type": "markdown",
      "metadata": {
        "id": "5JEK5Nh8JZRV"
      },
      "source": [
        "You can plot different things in the same figure using the subplot function. Here is an example:"
      ]
    },
    {
      "cell_type": "code",
      "metadata": {
        "id": "UaHGDRspJX7R"
      },
      "source": [
        "# compute the x and y coordinates for points on sine and cosine curves\n",
        "x = np.arange(0, 3 * np.pi, 0.1)\n",
        "y_sin = np.sin(x)\n",
        "y_cos = np.cos(x)\n",
        "\n",
        "# set up a subplot grid that has height 2 and width 1,\n",
        "# and set the first such subplot as active.\n",
        "plt.subplot(2, 1, 1)\n",
        "\n",
        "# make the first plot\n",
        "plt.plot(x, y_sin)\n",
        "plt.title('Sine')\n",
        "\n",
        "# set the second subplot as active, and make the second plot.\n",
        "plt.subplot(2, 1, 2)\n",
        "plt.plot(x, y_cos)\n",
        "plt.title('Cosine')\n",
        "\n",
        "# show the figure.\n",
        "plt.show()"
      ],
      "execution_count": null,
      "outputs": []
    },
    {
      "cell_type": "markdown",
      "metadata": {
        "id": "cXdcjGXiJisn"
      },
      "source": [
        "You can read much more about the `subplot` function in the [documentation](http://matplotlib.org/api/pyplot_api.html#matplotlib.pyplot.subplot)."
      ]
    },
    {
      "cell_type": "markdown",
      "metadata": {
        "id": "NN6piSZXLIaM"
      },
      "source": [
        "### **Images**"
      ]
    },
    {
      "cell_type": "markdown",
      "metadata": {
        "id": "9Nc1MZf0LoMC"
      },
      "source": [
        "Matplotlib can display images (assuming equally spaced horizontal dimensions) using the `imshow()` function."
      ]
    },
    {
      "cell_type": "code",
      "metadata": {
        "id": "lC0ZS8l5LJWW"
      },
      "source": [
        "import numpy as np\n",
        "import matplotlib.cm as cm\n",
        "import matplotlib.pyplot as plt\n",
        "import matplotlib.cbook as cbook\n",
        "from matplotlib.path import Path\n",
        "from matplotlib.patches import PathPatch\n",
        "\n",
        "\n",
        "# fixing random state for reproducibility\n",
        "np.random.seed(19680801)\n",
        "\n",
        "delta = 0.025\n",
        "x = y = np.arange(-3.0, 3.0, delta)\n",
        "X, Y = np.meshgrid(x, y)\n",
        "Z1 = np.exp(-X**2 - Y**2)\n",
        "Z2 = np.exp(-(X - 1)**2 - (Y - 1)**2)\n",
        "Z = (Z1 - Z2) * 2\n",
        "\n",
        "fig, ax = plt.subplots()\n",
        "im = ax.imshow(Z, interpolation='bilinear', cmap=cm.RdYlGn,\n",
        "               origin='lower', extent=[-3, 3, -3, 3],\n",
        "               vmax=abs(Z).max(), vmin=-abs(Z).max())\n",
        "\n",
        "plt.show()"
      ],
      "execution_count": null,
      "outputs": []
    },
    {
      "cell_type": "markdown",
      "metadata": {
        "id": "ptnyf-QNMEhJ"
      },
      "source": [
        "### **Contouring and Pseudocolor**"
      ]
    },
    {
      "cell_type": "markdown",
      "metadata": {
        "id": "A6lFYhKEMEU_"
      },
      "source": [
        "The `pcolormesh()` function can make a colored representation of a two-dimensional array, even if the horizontal dimensions are unevenly spaced. The `contour()` function is another way to represent the same data:"
      ]
    },
    {
      "cell_type": "code",
      "metadata": {
        "id": "TeGYKecnMFaZ"
      },
      "source": [
        "import matplotlib\n",
        "import matplotlib.pyplot as plt\n",
        "from matplotlib.colors import BoundaryNorm\n",
        "from matplotlib.ticker import MaxNLocator\n",
        "import numpy as np\n",
        "\n",
        "np.random.seed(19680801)\n",
        "Z = np.random.rand(6, 10)\n",
        "x = np.arange(-0.5, 10, 1)  # len = 11\n",
        "y = np.arange(4.5, 11, 1)  # len = 7\n",
        "\n",
        "fig, ax = plt.subplots()\n",
        "ax.pcolormesh(x, y, Z)"
      ],
      "execution_count": null,
      "outputs": []
    },
    {
      "cell_type": "markdown",
      "metadata": {
        "id": "GL2mGqkTNp0H"
      },
      "source": [
        "### **Histograms**"
      ]
    },
    {
      "cell_type": "markdown",
      "metadata": {
        "id": "G56uqdRMNwfY"
      },
      "source": [
        "The `hist()` function automatically generates histograms and returns the bin counts or probabilities:"
      ]
    },
    {
      "cell_type": "code",
      "metadata": {
        "id": "JXgDPFn6Kn8r"
      },
      "source": [
        "import matplotlib\n",
        "import numpy as np\n",
        "import matplotlib.pyplot as plt\n",
        "\n",
        "np.random.seed(19680801)\n",
        "\n",
        "# example data\n",
        "mu = 100  # mean of distribution\n",
        "sigma = 15  # standard deviation of distribution\n",
        "x = mu + sigma * np.random.randn(437)\n",
        "\n",
        "num_bins = 50\n",
        "\n",
        "fig, ax = plt.subplots()\n",
        "\n",
        "# the histogram of the data\n",
        "n, bins, patches = ax.hist(x, num_bins, density=True)\n",
        "\n",
        "# add a 'best fit' line\n",
        "y = ((1 / (np.sqrt(2 * np.pi) * sigma)) *\n",
        "     np.exp(-0.5 * (1 / sigma * (bins - mu))**2))\n",
        "ax.plot(bins, y, '--')\n",
        "ax.set_xlabel('Smarts')\n",
        "ax.set_ylabel('Probability density')\n",
        "ax.set_title(r'Histogram of IQ: $\\mu=100$, $\\sigma=15$')\n",
        "\n",
        "# tweak spacing to prevent clipping of ylabel\n",
        "fig.tight_layout()\n",
        "plt.show()"
      ],
      "execution_count": null,
      "outputs": []
    },
    {
      "cell_type": "markdown",
      "metadata": {
        "id": "3Fy4eOcNPfIa"
      },
      "source": [
        "### **Scatter plots**"
      ]
    },
    {
      "cell_type": "markdown",
      "metadata": {
        "id": "eVYiIQllPe7c"
      },
      "source": [
        "The `scatter()` function makes a scatter plot with (optional) size and color arguments."
      ]
    },
    {
      "cell_type": "code",
      "metadata": {
        "id": "BAniR2NHNncl"
      },
      "source": [
        "import numpy as np\n",
        "import matplotlib.pyplot as plt\n",
        "\n",
        "np.random.seed(19680801)\n",
        "fig, ax = plt.subplots()\n",
        "for color in ['tab:blue', 'tab:orange', 'tab:green']:\n",
        "    n = 750\n",
        "    x, y = np.random.rand(2, n)\n",
        "    scale = 200.0 * np.random.rand(n)\n",
        "    ax.scatter(x, y, c=color, s=scale, label=color,\n",
        "               alpha=0.3, edgecolors='none')\n",
        "\n",
        "ax.legend()\n",
        "ax.grid(True)\n",
        "\n",
        "plt.show()"
      ],
      "execution_count": null,
      "outputs": []
    },
    {
      "cell_type": "code",
      "metadata": {
        "cellView": "form",
        "id": "HXIhY9KejykY"
      },
      "source": [
        "#@title Questionnaire: \n",
        "#@markdown 14. In what order should you run the following commands in order to generate and display a plot?\n",
        "#@markdown  - *1. plt.legend()*\n",
        "#@markdown  - *2. x = np.linspace(1, 10, 20)*\n",
        "#@markdown  - *3. plt.show()*\n",
        "#@markdown  - *4. plt.xlabel('X-Label')*\n",
        "#@markdown  - *5. plt.plot(x, label='Example Plot')*\n",
        "\n",
        "#@markdown - A) 4 - 2 - 1 - 3 - 5\n",
        "#@markdown - B) 2 - 5 - 4 - 1 - 3\n",
        "#@markdown - C) 5 - 4 - 1 - 3 - 2\n",
        "#@markdown - D) 1 - 2 - 4 - 3 - 5\n",
        "\n",
        "Ans = \"\" #@param [\"A\", \"B\", \"C\", \"D\"] {allow-input: true}"
      ],
      "execution_count": null,
      "outputs": []
    }
  ]
}